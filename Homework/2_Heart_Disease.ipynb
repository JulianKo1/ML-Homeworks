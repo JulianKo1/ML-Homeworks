{
  "nbformat": 4,
  "nbformat_minor": 0,
  "metadata": {
    "colab": {
      "provenance": []
    },
    "kernelspec": {
      "name": "python3",
      "display_name": "Python 3"
    },
    "language_info": {
      "name": "python"
    }
  },
  "cells": [
    {
      "cell_type": "markdown",
      "source": [
        "# Прогнозирование сердечных заболеваний"
      ],
      "metadata": {
        "id": "DOtfgZ3WxxUL"
      }
    },
    {
      "cell_type": "markdown",
      "source": [
        "### Сердечные заболевания являются одной из ведущих причин смерти людей большинства рас. Поэтому, выявление и предотвращение факторов, оказывающих наибольшее влияние на сердечные заболевания, очень важно в здравоохранении"
      ],
      "metadata": {
        "id": "l10avHSRyWws"
      }
    },
    {
      "cell_type": "markdown",
      "source": [
        "### Цель:\n",
        "Прогнозирование возможного возникновения сердечных заболеваний"
      ],
      "metadata": {
        "id": "sBqjTaNxzCIA"
      }
    },
    {
      "cell_type": "markdown",
      "source": [
        "### Описание датасета:\n",
        "\n",
        "\n",
        "*   Объем данных: 319795 элементов\n",
        "*   Признаков: 18\n",
        "*   Классов: 2\n",
        "*   Типы и описание признаков:\n",
        "    * HeartDisease (наличие сердечных заболеваний) - Номинальный\n",
        "    * BMI (индекс массы тела) - Колличественный\n",
        "    * Smoking (Выкурили ли вы хотя бы 100 сигарет за всю свою жизнь?) - Номинальный\n",
        "    * AcoholDrinking (Сильно пьющие (взрослые мужчины, употребляющие более 14 напитков в неделю, и взрослые женщины, употребляющие более 7 напитков в неделю) - Номинальный\n",
        "    * Stroke (Наличие инсульта) - Номинальный\n",
        "    * PhysiclHealth (Теперь подумайте о своем физическом здоровье, которое включает в себя физические заболевания и травмы за последние 30 дней)- Колличественный\n",
        "    * MentalHealth (Размышляя о своем психическом здоровье, сколько дней в течение последних 30 дней ваше психическое здоровье было не в порядке?) - Колличественный\n",
        "    * DiffWalking (Испытываете ли вы серьезные трудности при ходьбе или подъеме по лестнице?) - Номинальный\n",
        "    * Sex (Пол) - Номинальный\n",
        "    * AgeCategory (Возраст) - Колличественный\n",
        "    * Race (Раса)- Номинальный\n",
        "    * Diabetic (Наличие диабета)- Номинальный\n",
        "    * PhysicalActivity (Занимались ли физической активностью или физическими упражнениями в течение последних 30 дней, помимо своей обычной работы) - Номинальный\n",
        "    * GenHealth (В целом ваше здоровье...) - Номинальный\n",
        "    * SleepTime (Часы сна) - Колличественный\n",
        "    * Asthma (Наличие астмы) - Номинальный\n",
        "    * KidneyDisease (Не считая камней в почках, инфекции мочевого пузыря или недержания мочи, вам когда-нибудь говорили, что у вас заболевание почек?) - Номинальный\n",
        "    * SkinCancer (Наличие рака кожи) - Номинальный\n",
        "* Есть пропущенные значения\n",
        "* Классы несбалансированы\n",
        "\n",
        "\n",
        "\n"
      ],
      "metadata": {
        "id": "t2KJFXVZzRrK"
      }
    },
    {
      "cell_type": "code",
      "execution_count": 45,
      "metadata": {
        "id": "x9IjdVtd8X4c"
      },
      "outputs": [],
      "source": [
        "import numpy as np\n",
        "import matplotlib.pyplot as plt\n",
        "import pandas as pd\n",
        "%matplotlib inline"
      ]
    },
    {
      "cell_type": "markdown",
      "source": [
        "# Чтение данных"
      ],
      "metadata": {
        "id": "K8Am_sXV78e3"
      }
    },
    {
      "cell_type": "code",
      "source": [
        "url = 'https://github.com/JulianKo1/ML-Homeworks/raw/main/Heart_data.csv'\n",
        "df = pd.read_csv(url)\n",
        "df"
      ],
      "metadata": {
        "colab": {
          "base_uri": "https://localhost:8080/",
          "height": 488
        },
        "id": "sgFhvzMA8d-L",
        "outputId": "158855b1-830c-4d78-f801-9fbab8c446cd"
      },
      "execution_count": 46,
      "outputs": [
        {
          "output_type": "execute_result",
          "data": {
            "text/plain": [
              "       HeartDisease    BMI Smoking AlcoholDrinking Stroke  PhysicalHealth  \\\n",
              "0                No  16.60     Yes              No     No             3.0   \n",
              "1                No  20.34      No              No    Yes             0.0   \n",
              "2                No  26.58     Yes              No     No            20.0   \n",
              "3                No  24.21      No              No     No             0.0   \n",
              "4                No  23.71      No              No     No            28.0   \n",
              "...             ...    ...     ...             ...    ...             ...   \n",
              "319790          Yes  27.41     Yes              No     No             7.0   \n",
              "319791           No  29.84     Yes              No     No             0.0   \n",
              "319792           No  24.24      No              No     No             0.0   \n",
              "319793           No  32.81      No              No     No             0.0   \n",
              "319794           No  46.56      No              No     No             0.0   \n",
              "\n",
              "        MentalHealth DiffWalking     Sex  AgeCategory      Race Diabetic  \\\n",
              "0               30.0          No  Female           59     White      Yes   \n",
              "1                0.0          No  Female           87     White       No   \n",
              "2               30.0          No    Male           66     White      Yes   \n",
              "3                0.0          No  Female           77     White       No   \n",
              "4                0.0         Yes  Female           41     White       No   \n",
              "...              ...         ...     ...          ...       ...      ...   \n",
              "319790           0.0         Yes    Male           60  Hispanic      Yes   \n",
              "319791           0.0          No    Male           38  Hispanic       No   \n",
              "319792           0.0          No  Female           48  Hispanic       No   \n",
              "319793           0.0          No  Female           25  Hispanic       No   \n",
              "319794           0.0          No  Female           89  Hispanic       No   \n",
              "\n",
              "       PhysicalActivity  GenHealth  SleepTime Asthma KidneyDisease SkinCancer  \n",
              "0                   Yes  Very good        5.0    Yes            No        Yes  \n",
              "1                   Yes  Very good        7.0     No            No         No  \n",
              "2                   Yes       Fair        8.0    Yes            No         No  \n",
              "3                    No       Good        6.0     No            No        Yes  \n",
              "4                   Yes  Very good        8.0     No            No         No  \n",
              "...                 ...        ...        ...    ...           ...        ...  \n",
              "319790               No       Fair        6.0    Yes            No         No  \n",
              "319791              Yes  Very good        5.0    Yes            No         No  \n",
              "319792              Yes       Good        6.0     No            No         No  \n",
              "319793               No       Good       12.0     No           NaN         No  \n",
              "319794              Yes       Good        8.0     No            No         No  \n",
              "\n",
              "[319795 rows x 18 columns]"
            ],
            "text/html": [
              "\n",
              "  <div id=\"df-df5cea34-602a-4557-a194-3c16ffd857f9\">\n",
              "    <div class=\"colab-df-container\">\n",
              "      <div>\n",
              "<style scoped>\n",
              "    .dataframe tbody tr th:only-of-type {\n",
              "        vertical-align: middle;\n",
              "    }\n",
              "\n",
              "    .dataframe tbody tr th {\n",
              "        vertical-align: top;\n",
              "    }\n",
              "\n",
              "    .dataframe thead th {\n",
              "        text-align: right;\n",
              "    }\n",
              "</style>\n",
              "<table border=\"1\" class=\"dataframe\">\n",
              "  <thead>\n",
              "    <tr style=\"text-align: right;\">\n",
              "      <th></th>\n",
              "      <th>HeartDisease</th>\n",
              "      <th>BMI</th>\n",
              "      <th>Smoking</th>\n",
              "      <th>AlcoholDrinking</th>\n",
              "      <th>Stroke</th>\n",
              "      <th>PhysicalHealth</th>\n",
              "      <th>MentalHealth</th>\n",
              "      <th>DiffWalking</th>\n",
              "      <th>Sex</th>\n",
              "      <th>AgeCategory</th>\n",
              "      <th>Race</th>\n",
              "      <th>Diabetic</th>\n",
              "      <th>PhysicalActivity</th>\n",
              "      <th>GenHealth</th>\n",
              "      <th>SleepTime</th>\n",
              "      <th>Asthma</th>\n",
              "      <th>KidneyDisease</th>\n",
              "      <th>SkinCancer</th>\n",
              "    </tr>\n",
              "  </thead>\n",
              "  <tbody>\n",
              "    <tr>\n",
              "      <th>0</th>\n",
              "      <td>No</td>\n",
              "      <td>16.60</td>\n",
              "      <td>Yes</td>\n",
              "      <td>No</td>\n",
              "      <td>No</td>\n",
              "      <td>3.0</td>\n",
              "      <td>30.0</td>\n",
              "      <td>No</td>\n",
              "      <td>Female</td>\n",
              "      <td>59</td>\n",
              "      <td>White</td>\n",
              "      <td>Yes</td>\n",
              "      <td>Yes</td>\n",
              "      <td>Very good</td>\n",
              "      <td>5.0</td>\n",
              "      <td>Yes</td>\n",
              "      <td>No</td>\n",
              "      <td>Yes</td>\n",
              "    </tr>\n",
              "    <tr>\n",
              "      <th>1</th>\n",
              "      <td>No</td>\n",
              "      <td>20.34</td>\n",
              "      <td>No</td>\n",
              "      <td>No</td>\n",
              "      <td>Yes</td>\n",
              "      <td>0.0</td>\n",
              "      <td>0.0</td>\n",
              "      <td>No</td>\n",
              "      <td>Female</td>\n",
              "      <td>87</td>\n",
              "      <td>White</td>\n",
              "      <td>No</td>\n",
              "      <td>Yes</td>\n",
              "      <td>Very good</td>\n",
              "      <td>7.0</td>\n",
              "      <td>No</td>\n",
              "      <td>No</td>\n",
              "      <td>No</td>\n",
              "    </tr>\n",
              "    <tr>\n",
              "      <th>2</th>\n",
              "      <td>No</td>\n",
              "      <td>26.58</td>\n",
              "      <td>Yes</td>\n",
              "      <td>No</td>\n",
              "      <td>No</td>\n",
              "      <td>20.0</td>\n",
              "      <td>30.0</td>\n",
              "      <td>No</td>\n",
              "      <td>Male</td>\n",
              "      <td>66</td>\n",
              "      <td>White</td>\n",
              "      <td>Yes</td>\n",
              "      <td>Yes</td>\n",
              "      <td>Fair</td>\n",
              "      <td>8.0</td>\n",
              "      <td>Yes</td>\n",
              "      <td>No</td>\n",
              "      <td>No</td>\n",
              "    </tr>\n",
              "    <tr>\n",
              "      <th>3</th>\n",
              "      <td>No</td>\n",
              "      <td>24.21</td>\n",
              "      <td>No</td>\n",
              "      <td>No</td>\n",
              "      <td>No</td>\n",
              "      <td>0.0</td>\n",
              "      <td>0.0</td>\n",
              "      <td>No</td>\n",
              "      <td>Female</td>\n",
              "      <td>77</td>\n",
              "      <td>White</td>\n",
              "      <td>No</td>\n",
              "      <td>No</td>\n",
              "      <td>Good</td>\n",
              "      <td>6.0</td>\n",
              "      <td>No</td>\n",
              "      <td>No</td>\n",
              "      <td>Yes</td>\n",
              "    </tr>\n",
              "    <tr>\n",
              "      <th>4</th>\n",
              "      <td>No</td>\n",
              "      <td>23.71</td>\n",
              "      <td>No</td>\n",
              "      <td>No</td>\n",
              "      <td>No</td>\n",
              "      <td>28.0</td>\n",
              "      <td>0.0</td>\n",
              "      <td>Yes</td>\n",
              "      <td>Female</td>\n",
              "      <td>41</td>\n",
              "      <td>White</td>\n",
              "      <td>No</td>\n",
              "      <td>Yes</td>\n",
              "      <td>Very good</td>\n",
              "      <td>8.0</td>\n",
              "      <td>No</td>\n",
              "      <td>No</td>\n",
              "      <td>No</td>\n",
              "    </tr>\n",
              "    <tr>\n",
              "      <th>...</th>\n",
              "      <td>...</td>\n",
              "      <td>...</td>\n",
              "      <td>...</td>\n",
              "      <td>...</td>\n",
              "      <td>...</td>\n",
              "      <td>...</td>\n",
              "      <td>...</td>\n",
              "      <td>...</td>\n",
              "      <td>...</td>\n",
              "      <td>...</td>\n",
              "      <td>...</td>\n",
              "      <td>...</td>\n",
              "      <td>...</td>\n",
              "      <td>...</td>\n",
              "      <td>...</td>\n",
              "      <td>...</td>\n",
              "      <td>...</td>\n",
              "      <td>...</td>\n",
              "    </tr>\n",
              "    <tr>\n",
              "      <th>319790</th>\n",
              "      <td>Yes</td>\n",
              "      <td>27.41</td>\n",
              "      <td>Yes</td>\n",
              "      <td>No</td>\n",
              "      <td>No</td>\n",
              "      <td>7.0</td>\n",
              "      <td>0.0</td>\n",
              "      <td>Yes</td>\n",
              "      <td>Male</td>\n",
              "      <td>60</td>\n",
              "      <td>Hispanic</td>\n",
              "      <td>Yes</td>\n",
              "      <td>No</td>\n",
              "      <td>Fair</td>\n",
              "      <td>6.0</td>\n",
              "      <td>Yes</td>\n",
              "      <td>No</td>\n",
              "      <td>No</td>\n",
              "    </tr>\n",
              "    <tr>\n",
              "      <th>319791</th>\n",
              "      <td>No</td>\n",
              "      <td>29.84</td>\n",
              "      <td>Yes</td>\n",
              "      <td>No</td>\n",
              "      <td>No</td>\n",
              "      <td>0.0</td>\n",
              "      <td>0.0</td>\n",
              "      <td>No</td>\n",
              "      <td>Male</td>\n",
              "      <td>38</td>\n",
              "      <td>Hispanic</td>\n",
              "      <td>No</td>\n",
              "      <td>Yes</td>\n",
              "      <td>Very good</td>\n",
              "      <td>5.0</td>\n",
              "      <td>Yes</td>\n",
              "      <td>No</td>\n",
              "      <td>No</td>\n",
              "    </tr>\n",
              "    <tr>\n",
              "      <th>319792</th>\n",
              "      <td>No</td>\n",
              "      <td>24.24</td>\n",
              "      <td>No</td>\n",
              "      <td>No</td>\n",
              "      <td>No</td>\n",
              "      <td>0.0</td>\n",
              "      <td>0.0</td>\n",
              "      <td>No</td>\n",
              "      <td>Female</td>\n",
              "      <td>48</td>\n",
              "      <td>Hispanic</td>\n",
              "      <td>No</td>\n",
              "      <td>Yes</td>\n",
              "      <td>Good</td>\n",
              "      <td>6.0</td>\n",
              "      <td>No</td>\n",
              "      <td>No</td>\n",
              "      <td>No</td>\n",
              "    </tr>\n",
              "    <tr>\n",
              "      <th>319793</th>\n",
              "      <td>No</td>\n",
              "      <td>32.81</td>\n",
              "      <td>No</td>\n",
              "      <td>No</td>\n",
              "      <td>No</td>\n",
              "      <td>0.0</td>\n",
              "      <td>0.0</td>\n",
              "      <td>No</td>\n",
              "      <td>Female</td>\n",
              "      <td>25</td>\n",
              "      <td>Hispanic</td>\n",
              "      <td>No</td>\n",
              "      <td>No</td>\n",
              "      <td>Good</td>\n",
              "      <td>12.0</td>\n",
              "      <td>No</td>\n",
              "      <td>NaN</td>\n",
              "      <td>No</td>\n",
              "    </tr>\n",
              "    <tr>\n",
              "      <th>319794</th>\n",
              "      <td>No</td>\n",
              "      <td>46.56</td>\n",
              "      <td>No</td>\n",
              "      <td>No</td>\n",
              "      <td>No</td>\n",
              "      <td>0.0</td>\n",
              "      <td>0.0</td>\n",
              "      <td>No</td>\n",
              "      <td>Female</td>\n",
              "      <td>89</td>\n",
              "      <td>Hispanic</td>\n",
              "      <td>No</td>\n",
              "      <td>Yes</td>\n",
              "      <td>Good</td>\n",
              "      <td>8.0</td>\n",
              "      <td>No</td>\n",
              "      <td>No</td>\n",
              "      <td>No</td>\n",
              "    </tr>\n",
              "  </tbody>\n",
              "</table>\n",
              "<p>319795 rows × 18 columns</p>\n",
              "</div>\n",
              "      <button class=\"colab-df-convert\" onclick=\"convertToInteractive('df-df5cea34-602a-4557-a194-3c16ffd857f9')\"\n",
              "              title=\"Convert this dataframe to an interactive table.\"\n",
              "              style=\"display:none;\">\n",
              "        \n",
              "  <svg xmlns=\"http://www.w3.org/2000/svg\" height=\"24px\"viewBox=\"0 0 24 24\"\n",
              "       width=\"24px\">\n",
              "    <path d=\"M0 0h24v24H0V0z\" fill=\"none\"/>\n",
              "    <path d=\"M18.56 5.44l.94 2.06.94-2.06 2.06-.94-2.06-.94-.94-2.06-.94 2.06-2.06.94zm-11 1L8.5 8.5l.94-2.06 2.06-.94-2.06-.94L8.5 2.5l-.94 2.06-2.06.94zm10 10l.94 2.06.94-2.06 2.06-.94-2.06-.94-.94-2.06-.94 2.06-2.06.94z\"/><path d=\"M17.41 7.96l-1.37-1.37c-.4-.4-.92-.59-1.43-.59-.52 0-1.04.2-1.43.59L10.3 9.45l-7.72 7.72c-.78.78-.78 2.05 0 2.83L4 21.41c.39.39.9.59 1.41.59.51 0 1.02-.2 1.41-.59l7.78-7.78 2.81-2.81c.8-.78.8-2.07 0-2.86zM5.41 20L4 18.59l7.72-7.72 1.47 1.35L5.41 20z\"/>\n",
              "  </svg>\n",
              "      </button>\n",
              "      \n",
              "  <style>\n",
              "    .colab-df-container {\n",
              "      display:flex;\n",
              "      flex-wrap:wrap;\n",
              "      gap: 12px;\n",
              "    }\n",
              "\n",
              "    .colab-df-convert {\n",
              "      background-color: #E8F0FE;\n",
              "      border: none;\n",
              "      border-radius: 50%;\n",
              "      cursor: pointer;\n",
              "      display: none;\n",
              "      fill: #1967D2;\n",
              "      height: 32px;\n",
              "      padding: 0 0 0 0;\n",
              "      width: 32px;\n",
              "    }\n",
              "\n",
              "    .colab-df-convert:hover {\n",
              "      background-color: #E2EBFA;\n",
              "      box-shadow: 0px 1px 2px rgba(60, 64, 67, 0.3), 0px 1px 3px 1px rgba(60, 64, 67, 0.15);\n",
              "      fill: #174EA6;\n",
              "    }\n",
              "\n",
              "    [theme=dark] .colab-df-convert {\n",
              "      background-color: #3B4455;\n",
              "      fill: #D2E3FC;\n",
              "    }\n",
              "\n",
              "    [theme=dark] .colab-df-convert:hover {\n",
              "      background-color: #434B5C;\n",
              "      box-shadow: 0px 1px 3px 1px rgba(0, 0, 0, 0.15);\n",
              "      filter: drop-shadow(0px 1px 2px rgba(0, 0, 0, 0.3));\n",
              "      fill: #FFFFFF;\n",
              "    }\n",
              "  </style>\n",
              "\n",
              "      <script>\n",
              "        const buttonEl =\n",
              "          document.querySelector('#df-df5cea34-602a-4557-a194-3c16ffd857f9 button.colab-df-convert');\n",
              "        buttonEl.style.display =\n",
              "          google.colab.kernel.accessAllowed ? 'block' : 'none';\n",
              "\n",
              "        async function convertToInteractive(key) {\n",
              "          const element = document.querySelector('#df-df5cea34-602a-4557-a194-3c16ffd857f9');\n",
              "          const dataTable =\n",
              "            await google.colab.kernel.invokeFunction('convertToInteractive',\n",
              "                                                     [key], {});\n",
              "          if (!dataTable) return;\n",
              "\n",
              "          const docLinkHtml = 'Like what you see? Visit the ' +\n",
              "            '<a target=\"_blank\" href=https://colab.research.google.com/notebooks/data_table.ipynb>data table notebook</a>'\n",
              "            + ' to learn more about interactive tables.';\n",
              "          element.innerHTML = '';\n",
              "          dataTable['output_type'] = 'display_data';\n",
              "          await google.colab.output.renderOutput(dataTable, element);\n",
              "          const docLink = document.createElement('div');\n",
              "          docLink.innerHTML = docLinkHtml;\n",
              "          element.appendChild(docLink);\n",
              "        }\n",
              "      </script>\n",
              "    </div>\n",
              "  </div>\n",
              "  "
            ]
          },
          "metadata": {},
          "execution_count": 46
        }
      ]
    },
    {
      "cell_type": "markdown",
      "source": [
        "# Визуализация данных, основные значения"
      ],
      "metadata": {
        "id": "G9xz02YNDKuU"
      }
    },
    {
      "cell_type": "code",
      "source": [
        "dvis = pd.read_csv(url)"
      ],
      "metadata": {
        "id": "dqytQ7XHDO9u"
      },
      "execution_count": 47,
      "outputs": []
    },
    {
      "cell_type": "code",
      "source": [
        "dvis.describe()"
      ],
      "metadata": {
        "colab": {
          "base_uri": "https://localhost:8080/",
          "height": 300
        },
        "id": "ezjqwaczDhRv",
        "outputId": "9ca42c13-5de0-42cf-ac56-27c050612810"
      },
      "execution_count": 48,
      "outputs": [
        {
          "output_type": "execute_result",
          "data": {
            "text/plain": [
              "                 BMI  PhysicalHealth   MentalHealth    AgeCategory  \\\n",
              "count  287738.000000    319795.00000  319795.000000  319795.000000   \n",
              "mean       28.319325         3.37171       3.898366      54.953670   \n",
              "std         6.354020         7.95085       7.955235      18.784779   \n",
              "min        12.020000         0.00000       0.000000      18.000000   \n",
              "25%        24.020000         0.00000       0.000000      40.000000   \n",
              "50%        27.320000         0.00000       0.000000      57.000000   \n",
              "75%        31.400000         2.00000       3.000000      69.000000   \n",
              "max        94.850000        30.00000      30.000000      96.000000   \n",
              "\n",
              "           SleepTime  \n",
              "count  319795.000000  \n",
              "mean        7.097075  \n",
              "std         1.436007  \n",
              "min         1.000000  \n",
              "25%         6.000000  \n",
              "50%         7.000000  \n",
              "75%         8.000000  \n",
              "max        24.000000  "
            ],
            "text/html": [
              "\n",
              "  <div id=\"df-62b2f91c-28aa-4f12-aa1f-22937aee40ec\">\n",
              "    <div class=\"colab-df-container\">\n",
              "      <div>\n",
              "<style scoped>\n",
              "    .dataframe tbody tr th:only-of-type {\n",
              "        vertical-align: middle;\n",
              "    }\n",
              "\n",
              "    .dataframe tbody tr th {\n",
              "        vertical-align: top;\n",
              "    }\n",
              "\n",
              "    .dataframe thead th {\n",
              "        text-align: right;\n",
              "    }\n",
              "</style>\n",
              "<table border=\"1\" class=\"dataframe\">\n",
              "  <thead>\n",
              "    <tr style=\"text-align: right;\">\n",
              "      <th></th>\n",
              "      <th>BMI</th>\n",
              "      <th>PhysicalHealth</th>\n",
              "      <th>MentalHealth</th>\n",
              "      <th>AgeCategory</th>\n",
              "      <th>SleepTime</th>\n",
              "    </tr>\n",
              "  </thead>\n",
              "  <tbody>\n",
              "    <tr>\n",
              "      <th>count</th>\n",
              "      <td>287738.000000</td>\n",
              "      <td>319795.00000</td>\n",
              "      <td>319795.000000</td>\n",
              "      <td>319795.000000</td>\n",
              "      <td>319795.000000</td>\n",
              "    </tr>\n",
              "    <tr>\n",
              "      <th>mean</th>\n",
              "      <td>28.319325</td>\n",
              "      <td>3.37171</td>\n",
              "      <td>3.898366</td>\n",
              "      <td>54.953670</td>\n",
              "      <td>7.097075</td>\n",
              "    </tr>\n",
              "    <tr>\n",
              "      <th>std</th>\n",
              "      <td>6.354020</td>\n",
              "      <td>7.95085</td>\n",
              "      <td>7.955235</td>\n",
              "      <td>18.784779</td>\n",
              "      <td>1.436007</td>\n",
              "    </tr>\n",
              "    <tr>\n",
              "      <th>min</th>\n",
              "      <td>12.020000</td>\n",
              "      <td>0.00000</td>\n",
              "      <td>0.000000</td>\n",
              "      <td>18.000000</td>\n",
              "      <td>1.000000</td>\n",
              "    </tr>\n",
              "    <tr>\n",
              "      <th>25%</th>\n",
              "      <td>24.020000</td>\n",
              "      <td>0.00000</td>\n",
              "      <td>0.000000</td>\n",
              "      <td>40.000000</td>\n",
              "      <td>6.000000</td>\n",
              "    </tr>\n",
              "    <tr>\n",
              "      <th>50%</th>\n",
              "      <td>27.320000</td>\n",
              "      <td>0.00000</td>\n",
              "      <td>0.000000</td>\n",
              "      <td>57.000000</td>\n",
              "      <td>7.000000</td>\n",
              "    </tr>\n",
              "    <tr>\n",
              "      <th>75%</th>\n",
              "      <td>31.400000</td>\n",
              "      <td>2.00000</td>\n",
              "      <td>3.000000</td>\n",
              "      <td>69.000000</td>\n",
              "      <td>8.000000</td>\n",
              "    </tr>\n",
              "    <tr>\n",
              "      <th>max</th>\n",
              "      <td>94.850000</td>\n",
              "      <td>30.00000</td>\n",
              "      <td>30.000000</td>\n",
              "      <td>96.000000</td>\n",
              "      <td>24.000000</td>\n",
              "    </tr>\n",
              "  </tbody>\n",
              "</table>\n",
              "</div>\n",
              "      <button class=\"colab-df-convert\" onclick=\"convertToInteractive('df-62b2f91c-28aa-4f12-aa1f-22937aee40ec')\"\n",
              "              title=\"Convert this dataframe to an interactive table.\"\n",
              "              style=\"display:none;\">\n",
              "        \n",
              "  <svg xmlns=\"http://www.w3.org/2000/svg\" height=\"24px\"viewBox=\"0 0 24 24\"\n",
              "       width=\"24px\">\n",
              "    <path d=\"M0 0h24v24H0V0z\" fill=\"none\"/>\n",
              "    <path d=\"M18.56 5.44l.94 2.06.94-2.06 2.06-.94-2.06-.94-.94-2.06-.94 2.06-2.06.94zm-11 1L8.5 8.5l.94-2.06 2.06-.94-2.06-.94L8.5 2.5l-.94 2.06-2.06.94zm10 10l.94 2.06.94-2.06 2.06-.94-2.06-.94-.94-2.06-.94 2.06-2.06.94z\"/><path d=\"M17.41 7.96l-1.37-1.37c-.4-.4-.92-.59-1.43-.59-.52 0-1.04.2-1.43.59L10.3 9.45l-7.72 7.72c-.78.78-.78 2.05 0 2.83L4 21.41c.39.39.9.59 1.41.59.51 0 1.02-.2 1.41-.59l7.78-7.78 2.81-2.81c.8-.78.8-2.07 0-2.86zM5.41 20L4 18.59l7.72-7.72 1.47 1.35L5.41 20z\"/>\n",
              "  </svg>\n",
              "      </button>\n",
              "      \n",
              "  <style>\n",
              "    .colab-df-container {\n",
              "      display:flex;\n",
              "      flex-wrap:wrap;\n",
              "      gap: 12px;\n",
              "    }\n",
              "\n",
              "    .colab-df-convert {\n",
              "      background-color: #E8F0FE;\n",
              "      border: none;\n",
              "      border-radius: 50%;\n",
              "      cursor: pointer;\n",
              "      display: none;\n",
              "      fill: #1967D2;\n",
              "      height: 32px;\n",
              "      padding: 0 0 0 0;\n",
              "      width: 32px;\n",
              "    }\n",
              "\n",
              "    .colab-df-convert:hover {\n",
              "      background-color: #E2EBFA;\n",
              "      box-shadow: 0px 1px 2px rgba(60, 64, 67, 0.3), 0px 1px 3px 1px rgba(60, 64, 67, 0.15);\n",
              "      fill: #174EA6;\n",
              "    }\n",
              "\n",
              "    [theme=dark] .colab-df-convert {\n",
              "      background-color: #3B4455;\n",
              "      fill: #D2E3FC;\n",
              "    }\n",
              "\n",
              "    [theme=dark] .colab-df-convert:hover {\n",
              "      background-color: #434B5C;\n",
              "      box-shadow: 0px 1px 3px 1px rgba(0, 0, 0, 0.15);\n",
              "      filter: drop-shadow(0px 1px 2px rgba(0, 0, 0, 0.3));\n",
              "      fill: #FFFFFF;\n",
              "    }\n",
              "  </style>\n",
              "\n",
              "      <script>\n",
              "        const buttonEl =\n",
              "          document.querySelector('#df-62b2f91c-28aa-4f12-aa1f-22937aee40ec button.colab-df-convert');\n",
              "        buttonEl.style.display =\n",
              "          google.colab.kernel.accessAllowed ? 'block' : 'none';\n",
              "\n",
              "        async function convertToInteractive(key) {\n",
              "          const element = document.querySelector('#df-62b2f91c-28aa-4f12-aa1f-22937aee40ec');\n",
              "          const dataTable =\n",
              "            await google.colab.kernel.invokeFunction('convertToInteractive',\n",
              "                                                     [key], {});\n",
              "          if (!dataTable) return;\n",
              "\n",
              "          const docLinkHtml = 'Like what you see? Visit the ' +\n",
              "            '<a target=\"_blank\" href=https://colab.research.google.com/notebooks/data_table.ipynb>data table notebook</a>'\n",
              "            + ' to learn more about interactive tables.';\n",
              "          element.innerHTML = '';\n",
              "          dataTable['output_type'] = 'display_data';\n",
              "          await google.colab.output.renderOutput(dataTable, element);\n",
              "          const docLink = document.createElement('div');\n",
              "          docLink.innerHTML = docLinkHtml;\n",
              "          element.appendChild(docLink);\n",
              "        }\n",
              "      </script>\n",
              "    </div>\n",
              "  </div>\n",
              "  "
            ]
          },
          "metadata": {},
          "execution_count": 48
        }
      ]
    },
    {
      "cell_type": "code",
      "source": [
        "corr_matrix = dvis.corr()\n",
        "corr_matrix"
      ],
      "metadata": {
        "colab": {
          "base_uri": "https://localhost:8080/",
          "height": 206
        },
        "id": "lTCe1s8BDnf3",
        "outputId": "e7c13337-b7de-4408-80bd-7cc8fec3bb03"
      },
      "execution_count": 49,
      "outputs": [
        {
          "output_type": "execute_result",
          "data": {
            "text/plain": [
              "                     BMI  PhysicalHealth  MentalHealth  AgeCategory  SleepTime\n",
              "BMI             1.000000        0.110142      0.063784    -0.011608  -0.052453\n",
              "PhysicalHealth  0.110142        1.000000      0.287987     0.108973  -0.061387\n",
              "MentalHealth    0.063784        0.287987      1.000000    -0.154619  -0.119717\n",
              "AgeCategory    -0.011608        0.108973     -0.154619     1.000000   0.106828\n",
              "SleepTime      -0.052453       -0.061387     -0.119717     0.106828   1.000000"
            ],
            "text/html": [
              "\n",
              "  <div id=\"df-d4d93e70-4d4f-4ac5-b6ca-bf8f18c6670f\">\n",
              "    <div class=\"colab-df-container\">\n",
              "      <div>\n",
              "<style scoped>\n",
              "    .dataframe tbody tr th:only-of-type {\n",
              "        vertical-align: middle;\n",
              "    }\n",
              "\n",
              "    .dataframe tbody tr th {\n",
              "        vertical-align: top;\n",
              "    }\n",
              "\n",
              "    .dataframe thead th {\n",
              "        text-align: right;\n",
              "    }\n",
              "</style>\n",
              "<table border=\"1\" class=\"dataframe\">\n",
              "  <thead>\n",
              "    <tr style=\"text-align: right;\">\n",
              "      <th></th>\n",
              "      <th>BMI</th>\n",
              "      <th>PhysicalHealth</th>\n",
              "      <th>MentalHealth</th>\n",
              "      <th>AgeCategory</th>\n",
              "      <th>SleepTime</th>\n",
              "    </tr>\n",
              "  </thead>\n",
              "  <tbody>\n",
              "    <tr>\n",
              "      <th>BMI</th>\n",
              "      <td>1.000000</td>\n",
              "      <td>0.110142</td>\n",
              "      <td>0.063784</td>\n",
              "      <td>-0.011608</td>\n",
              "      <td>-0.052453</td>\n",
              "    </tr>\n",
              "    <tr>\n",
              "      <th>PhysicalHealth</th>\n",
              "      <td>0.110142</td>\n",
              "      <td>1.000000</td>\n",
              "      <td>0.287987</td>\n",
              "      <td>0.108973</td>\n",
              "      <td>-0.061387</td>\n",
              "    </tr>\n",
              "    <tr>\n",
              "      <th>MentalHealth</th>\n",
              "      <td>0.063784</td>\n",
              "      <td>0.287987</td>\n",
              "      <td>1.000000</td>\n",
              "      <td>-0.154619</td>\n",
              "      <td>-0.119717</td>\n",
              "    </tr>\n",
              "    <tr>\n",
              "      <th>AgeCategory</th>\n",
              "      <td>-0.011608</td>\n",
              "      <td>0.108973</td>\n",
              "      <td>-0.154619</td>\n",
              "      <td>1.000000</td>\n",
              "      <td>0.106828</td>\n",
              "    </tr>\n",
              "    <tr>\n",
              "      <th>SleepTime</th>\n",
              "      <td>-0.052453</td>\n",
              "      <td>-0.061387</td>\n",
              "      <td>-0.119717</td>\n",
              "      <td>0.106828</td>\n",
              "      <td>1.000000</td>\n",
              "    </tr>\n",
              "  </tbody>\n",
              "</table>\n",
              "</div>\n",
              "      <button class=\"colab-df-convert\" onclick=\"convertToInteractive('df-d4d93e70-4d4f-4ac5-b6ca-bf8f18c6670f')\"\n",
              "              title=\"Convert this dataframe to an interactive table.\"\n",
              "              style=\"display:none;\">\n",
              "        \n",
              "  <svg xmlns=\"http://www.w3.org/2000/svg\" height=\"24px\"viewBox=\"0 0 24 24\"\n",
              "       width=\"24px\">\n",
              "    <path d=\"M0 0h24v24H0V0z\" fill=\"none\"/>\n",
              "    <path d=\"M18.56 5.44l.94 2.06.94-2.06 2.06-.94-2.06-.94-.94-2.06-.94 2.06-2.06.94zm-11 1L8.5 8.5l.94-2.06 2.06-.94-2.06-.94L8.5 2.5l-.94 2.06-2.06.94zm10 10l.94 2.06.94-2.06 2.06-.94-2.06-.94-.94-2.06-.94 2.06-2.06.94z\"/><path d=\"M17.41 7.96l-1.37-1.37c-.4-.4-.92-.59-1.43-.59-.52 0-1.04.2-1.43.59L10.3 9.45l-7.72 7.72c-.78.78-.78 2.05 0 2.83L4 21.41c.39.39.9.59 1.41.59.51 0 1.02-.2 1.41-.59l7.78-7.78 2.81-2.81c.8-.78.8-2.07 0-2.86zM5.41 20L4 18.59l7.72-7.72 1.47 1.35L5.41 20z\"/>\n",
              "  </svg>\n",
              "      </button>\n",
              "      \n",
              "  <style>\n",
              "    .colab-df-container {\n",
              "      display:flex;\n",
              "      flex-wrap:wrap;\n",
              "      gap: 12px;\n",
              "    }\n",
              "\n",
              "    .colab-df-convert {\n",
              "      background-color: #E8F0FE;\n",
              "      border: none;\n",
              "      border-radius: 50%;\n",
              "      cursor: pointer;\n",
              "      display: none;\n",
              "      fill: #1967D2;\n",
              "      height: 32px;\n",
              "      padding: 0 0 0 0;\n",
              "      width: 32px;\n",
              "    }\n",
              "\n",
              "    .colab-df-convert:hover {\n",
              "      background-color: #E2EBFA;\n",
              "      box-shadow: 0px 1px 2px rgba(60, 64, 67, 0.3), 0px 1px 3px 1px rgba(60, 64, 67, 0.15);\n",
              "      fill: #174EA6;\n",
              "    }\n",
              "\n",
              "    [theme=dark] .colab-df-convert {\n",
              "      background-color: #3B4455;\n",
              "      fill: #D2E3FC;\n",
              "    }\n",
              "\n",
              "    [theme=dark] .colab-df-convert:hover {\n",
              "      background-color: #434B5C;\n",
              "      box-shadow: 0px 1px 3px 1px rgba(0, 0, 0, 0.15);\n",
              "      filter: drop-shadow(0px 1px 2px rgba(0, 0, 0, 0.3));\n",
              "      fill: #FFFFFF;\n",
              "    }\n",
              "  </style>\n",
              "\n",
              "      <script>\n",
              "        const buttonEl =\n",
              "          document.querySelector('#df-d4d93e70-4d4f-4ac5-b6ca-bf8f18c6670f button.colab-df-convert');\n",
              "        buttonEl.style.display =\n",
              "          google.colab.kernel.accessAllowed ? 'block' : 'none';\n",
              "\n",
              "        async function convertToInteractive(key) {\n",
              "          const element = document.querySelector('#df-d4d93e70-4d4f-4ac5-b6ca-bf8f18c6670f');\n",
              "          const dataTable =\n",
              "            await google.colab.kernel.invokeFunction('convertToInteractive',\n",
              "                                                     [key], {});\n",
              "          if (!dataTable) return;\n",
              "\n",
              "          const docLinkHtml = 'Like what you see? Visit the ' +\n",
              "            '<a target=\"_blank\" href=https://colab.research.google.com/notebooks/data_table.ipynb>data table notebook</a>'\n",
              "            + ' to learn more about interactive tables.';\n",
              "          element.innerHTML = '';\n",
              "          dataTable['output_type'] = 'display_data';\n",
              "          await google.colab.output.renderOutput(dataTable, element);\n",
              "          const docLink = document.createElement('div');\n",
              "          docLink.innerHTML = docLinkHtml;\n",
              "          element.appendChild(docLink);\n",
              "        }\n",
              "      </script>\n",
              "    </div>\n",
              "  </div>\n",
              "  "
            ]
          },
          "metadata": {},
          "execution_count": 49
        }
      ]
    },
    {
      "cell_type": "code",
      "source": [
        "import seaborn as sns\n",
        "sns.heatmap(corr_matrix, cmap=\"YlGnBu\")\n",
        "pass"
      ],
      "metadata": {
        "colab": {
          "base_uri": "https://localhost:8080/",
          "height": 343
        },
        "id": "pDu6gxPdDvCF",
        "outputId": "f486236c-0238-4f61-c3fa-a2b728fba4dd"
      },
      "execution_count": 50,
      "outputs": [
        {
          "output_type": "display_data",
          "data": {
            "text/plain": [
              "<Figure size 432x288 with 2 Axes>"
            ],
            "image/png": "[encoded data removed]"
          },
          "metadata": {
            "needs_background": "light"
          }
        }
      ]
    },
    {
      "cell_type": "markdown",
      "source": [
        "Как можно заметить по данной матрице, наблюдается немалое значение корреляции между физическим и ментальным состояниями. Также заметим, что физическое состояние зависит от возраста. \n",
        "\n",
        "Еще можно отметить, что ментальное состояние практически никак не зависит от времени сна и возрастной категории."
      ],
      "metadata": {
        "id": "DA05toW7Elxh"
      }
    },
    {
      "cell_type": "markdown",
      "source": [
        "### Визуализация и интерпретация некоторых данных:"
      ],
      "metadata": {
        "id": "SlC4S7dQRxeZ"
      }
    },
    {
      "cell_type": "markdown",
      "source": [
        "Зависимость наличия сердечных заболеваний от возраста:"
      ],
      "metadata": {
        "id": "zLoi6EjMGfM7"
      }
    },
    {
      "cell_type": "code",
      "source": [
        "plt.plot(dvis['AgeCategory'], dvis['HeartDisease'], 'o', alpha = 0.002)\n",
        "plt.xlabel('Age')\n",
        "plt.ylabel('HeartDisease')\n",
        "pass"
      ],
      "metadata": {
        "colab": {
          "base_uri": "https://localhost:8080/",
          "height": 285
        },
        "id": "rmUOgLY0FvTE",
        "outputId": "3ad92862-9369-42de-bea6-73c19b943ce3"
      },
      "execution_count": 51,
      "outputs": [
        {
          "output_type": "display_data",
          "data": {
            "text/plain": [
              "<Figure size 432x288 with 1 Axes>"
            ],
            "image/png": "[encoded data removed]"
          },
          "metadata": {
            "needs_background": "light"
          }
        }
      ]
    },
    {
      "cell_type": "markdown",
      "source": [
        "Выводы по данному графику: чем больше возраст, тем больше людей страдающих сердечными заболеваниями. У большинства человек сердечные заболевания появляются после 45 лет."
      ],
      "metadata": {
        "id": "8S61zkJBGoaL"
      }
    },
    {
      "cell_type": "code",
      "source": [
        "plt.plot(dvis['AgeCategory'], dvis['BMI'], 'o', alpha = 0.002)\n",
        "plt.xlabel('Age')\n",
        "plt.ylabel('BMI')\n",
        "pass"
      ],
      "metadata": {
        "colab": {
          "base_uri": "https://localhost:8080/",
          "height": 285
        },
        "id": "C2wnW7x1O5IM",
        "outputId": "8853417d-687e-4a32-daa9-6cf23ef02200"
      },
      "execution_count": 52,
      "outputs": [
        {
          "output_type": "display_data",
          "data": {
            "text/plain": [
              "<Figure size 432x288 with 1 Axes>"
            ],
            "image/png": "[encoded data removed]"
          },
          "metadata": {
            "needs_background": "light"
          }
        }
      ]
    },
    {
      "cell_type": "markdown",
      "source": [
        "Как видно, индекс массы тела увеличивается с годами, и резко уменьшается в преклонном возрасте"
      ],
      "metadata": {
        "id": "owBDpYMgQAR5"
      }
    },
    {
      "cell_type": "code",
      "source": [
        "sns.set(rc={'figure.figsize':(15,8.27)})\n",
        "sns.boxplot(x=\"Race\", y=\"BMI\", data=dvis)\n",
        "pass"
      ],
      "metadata": {
        "colab": {
          "base_uri": "https://localhost:8080/",
          "height": 517
        },
        "id": "5e9GZmTbQcL4",
        "outputId": "c8343235-d07c-47e9-a794-9634a9ec4895"
      },
      "execution_count": 53,
      "outputs": [
        {
          "output_type": "display_data",
          "data": {
            "text/plain": [
              "<Figure size 1080x595.44 with 1 Axes>"
            ],
            "image/png": "[encoded data removed]"
          },
          "metadata": {}
        }
      ]
    },
    {
      "cell_type": "markdown",
      "source": [
        "Темнокожие люди имею больший индекс массы тела среди рас.\n",
        "\n",
        "Азиаты наоборот - наименьший индекс."
      ],
      "metadata": {
        "id": "pFwG2x2aRMN6"
      }
    },
    {
      "cell_type": "code",
      "source": [
        "sns.countplot(data=dvis,x='Sex',hue='HeartDisease')"
      ],
      "metadata": {
        "colab": {
          "base_uri": "https://localhost:8080/",
          "height": 534
        },
        "id": "GPjBdrZHLaMl",
        "outputId": "edfb1b93-c910-4bb3-c153-0510873e7296"
      },
      "execution_count": 54,
      "outputs": [
        {
          "output_type": "execute_result",
          "data": {
            "text/plain": [
              "<matplotlib.axes._subplots.AxesSubplot at 0x7ff8353945e0>"
            ]
          },
          "metadata": {},
          "execution_count": 54
        },
        {
          "output_type": "display_data",
          "data": {
            "text/plain": [
              "<Figure size 1080x595.44 with 1 Axes>"
            ],
            "image/png": "[encoded data removed]"
          },
          "metadata": {}
        }
      ]
    },
    {
      "cell_type": "markdown",
      "source": [
        "По графику видно, что мужчины подвержены сердечным заболеваниям больше женщин"
      ],
      "metadata": {
        "id": "rb4N-w-7LvZO"
      }
    },
    {
      "cell_type": "code",
      "source": [
        "sns.countplot(data=dvis,x='AlcoholDrinking',hue='HeartDisease')"
      ],
      "metadata": {
        "colab": {
          "base_uri": "https://localhost:8080/",
          "height": 534
        },
        "id": "HFWTgwW1MEyb",
        "outputId": "7c7adca8-128a-4df0-8a28-4c32ec1693b2"
      },
      "execution_count": 55,
      "outputs": [
        {
          "output_type": "execute_result",
          "data": {
            "text/plain": [
              "<matplotlib.axes._subplots.AxesSubplot at 0x7ff835325220>"
            ]
          },
          "metadata": {},
          "execution_count": 55
        },
        {
          "output_type": "display_data",
          "data": {
            "text/plain": [
              "<Figure size 1080x595.44 with 1 Axes>"
            ],
            "image/png": "[encoded data removed]"
          },
          "metadata": {}
        }
      ]
    },
    {
      "cell_type": "markdown",
      "source": [
        "По графику, только малая часть пьющих людей подвергаются риску сердечных заболеваний"
      ],
      "metadata": {
        "id": "SfQdeV4tMojK"
      }
    },
    {
      "cell_type": "code",
      "source": [
        "sns.countplot(data=dvis,x='Smoking',hue='HeartDisease')"
      ],
      "metadata": {
        "colab": {
          "base_uri": "https://localhost:8080/",
          "height": 534
        },
        "id": "2FB_CAEbM91F",
        "outputId": "4fca79c4-cb02-438a-eec3-dc6d8169d7d6"
      },
      "execution_count": 56,
      "outputs": [
        {
          "output_type": "execute_result",
          "data": {
            "text/plain": [
              "<matplotlib.axes._subplots.AxesSubplot at 0x7ff835394520>"
            ]
          },
          "metadata": {},
          "execution_count": 56
        },
        {
          "output_type": "display_data",
          "data": {
            "text/plain": [
              "<Figure size 1080x595.44 with 1 Axes>"
            ],
            "image/png": "[encoded data removed]"
          },
          "metadata": {}
        }
      ]
    },
    {
      "cell_type": "markdown",
      "source": [
        "Курящие люди более подвержены риску сердечных заболеваний"
      ],
      "metadata": {
        "id": "lB4BPIUTNpPE"
      }
    },
    {
      "cell_type": "code",
      "source": [
        "sns.countplot(data=dvis,x='Stroke',hue='HeartDisease')"
      ],
      "metadata": {
        "colab": {
          "base_uri": "https://localhost:8080/",
          "height": 534
        },
        "id": "AdEVUahAN0fu",
        "outputId": "2fd065f0-1b9b-4f2e-9fe1-b7d37923cf5a"
      },
      "execution_count": 57,
      "outputs": [
        {
          "output_type": "execute_result",
          "data": {
            "text/plain": [
              "<matplotlib.axes._subplots.AxesSubplot at 0x7ff8353044f0>"
            ]
          },
          "metadata": {},
          "execution_count": 57
        },
        {
          "output_type": "display_data",
          "data": {
            "text/plain": [
              "<Figure size 1080x595.44 with 1 Axes>"
            ],
            "image/png": "[encoded data removed]"
          },
          "metadata": {}
        }
      ]
    },
    {
      "cell_type": "markdown",
      "source": [
        "По графику, около половины людей, имеющих инсульт, страдает и от сердечных заболеваний"
      ],
      "metadata": {
        "id": "fmsnDzArOHjy"
      }
    },
    {
      "cell_type": "markdown",
      "source": [
        "# Борьба с пропущенными значениями"
      ],
      "metadata": {
        "id": "TqmReLR-8BqW"
      }
    },
    {
      "cell_type": "markdown",
      "source": [
        "Проверка на наличие пропущенных значений:"
      ],
      "metadata": {
        "id": "xMbvYQuaJI3s"
      }
    },
    {
      "cell_type": "code",
      "source": [
        "df.isna().sum()"
      ],
      "metadata": {
        "colab": {
          "base_uri": "https://localhost:8080/"
        },
        "id": "pJY-GVhEFnwl",
        "outputId": "e34b0d8c-4e43-471c-ad56-41be583d3009"
      },
      "execution_count": 58,
      "outputs": [
        {
          "output_type": "execute_result",
          "data": {
            "text/plain": [
              "HeartDisease            0\n",
              "BMI                 32057\n",
              "Smoking                 0\n",
              "AlcoholDrinking         0\n",
              "Stroke                  0\n",
              "PhysicalHealth          0\n",
              "MentalHealth            0\n",
              "DiffWalking             0\n",
              "Sex                     0\n",
              "AgeCategory             0\n",
              "Race                    0\n",
              "Diabetic                0\n",
              "PhysicalActivity        0\n",
              "GenHealth           16429\n",
              "SleepTime               0\n",
              "Asthma                  0\n",
              "KidneyDisease       22357\n",
              "SkinCancer              0\n",
              "dtype: int64"
            ]
          },
          "metadata": {},
          "execution_count": 58
        }
      ]
    },
    {
      "cell_type": "markdown",
      "source": [
        "Борьба с пропущенными значениями количественных переменных: заполнение пропущенных значений медианой"
      ],
      "metadata": {
        "id": "lHnSrhzNF1m5"
      }
    },
    {
      "cell_type": "code",
      "source": [
        "df = df.fillna(df.median(axis=0), axis=0)"
      ],
      "metadata": {
        "colab": {
          "base_uri": "https://localhost:8080/"
        },
        "id": "RIxrt6efF6MO",
        "outputId": "e398299b-f5d8-43c8-cf19-ec2239736ef0"
      },
      "execution_count": 59,
      "outputs": [
        {
          "output_type": "stream",
          "name": "stderr",
          "text": [
            "<ipython-input-59-e477291322f6>:1: FutureWarning: Dropping of nuisance columns in DataFrame reductions (with 'numeric_only=None') is deprecated; in a future version this will raise TypeError.  Select only valid columns before calling the reduction.\n",
            "  df = df.fillna(df.median(axis=0), axis=0)\n"
          ]
        }
      ]
    },
    {
      "cell_type": "markdown",
      "source": [
        "Борьба с пропущенными значениями номинальных переменных: заполнение пропущеных значений модой"
      ],
      "metadata": {
        "id": "5OvfejSWGZ-y"
      }
    },
    {
      "cell_type": "code",
      "source": [
        "df['GenHealth'].fillna(df['GenHealth'].mode().iloc[0], inplace=True)"
      ],
      "metadata": {
        "id": "vSW226JsGZhw"
      },
      "execution_count": 60,
      "outputs": []
    },
    {
      "cell_type": "code",
      "source": [
        "df['KidneyDisease'].fillna(df['KidneyDisease'].mode().iloc[0], inplace=True)"
      ],
      "metadata": {
        "id": "kssZiSZMHLTs"
      },
      "execution_count": 61,
      "outputs": []
    },
    {
      "cell_type": "markdown",
      "source": [
        "Пропущенных значений не осталось:"
      ],
      "metadata": {
        "id": "SPwJiw7SI8gf"
      }
    },
    {
      "cell_type": "code",
      "source": [
        "df.isna().sum()"
      ],
      "metadata": {
        "colab": {
          "base_uri": "https://localhost:8080/"
        },
        "id": "IOpc7EmcI2Cs",
        "outputId": "cc38fce9-3770-4035-a798-0a6c8442429f"
      },
      "execution_count": 62,
      "outputs": [
        {
          "output_type": "execute_result",
          "data": {
            "text/plain": [
              "HeartDisease        0\n",
              "BMI                 0\n",
              "Smoking             0\n",
              "AlcoholDrinking     0\n",
              "Stroke              0\n",
              "PhysicalHealth      0\n",
              "MentalHealth        0\n",
              "DiffWalking         0\n",
              "Sex                 0\n",
              "AgeCategory         0\n",
              "Race                0\n",
              "Diabetic            0\n",
              "PhysicalActivity    0\n",
              "GenHealth           0\n",
              "SleepTime           0\n",
              "Asthma              0\n",
              "KidneyDisease       0\n",
              "SkinCancer          0\n",
              "dtype: int64"
            ]
          },
          "metadata": {},
          "execution_count": 62
        }
      ]
    },
    {
      "cell_type": "code",
      "source": [
        "df.columns"
      ],
      "metadata": {
        "colab": {
          "base_uri": "https://localhost:8080/"
        },
        "id": "nhNwgFwnWWOE",
        "outputId": "644f7489-c531-4ab6-88e0-444709297e39"
      },
      "execution_count": 63,
      "outputs": [
        {
          "output_type": "execute_result",
          "data": {
            "text/plain": [
              "Index(['HeartDisease', 'BMI', 'Smoking', 'AlcoholDrinking', 'Stroke',\n",
              "       'PhysicalHealth', 'MentalHealth', 'DiffWalking', 'Sex', 'AgeCategory',\n",
              "       'Race', 'Diabetic', 'PhysicalActivity', 'GenHealth', 'SleepTime',\n",
              "       'Asthma', 'KidneyDisease', 'SkinCancer'],\n",
              "      dtype='object')"
            ]
          },
          "metadata": {},
          "execution_count": 63
        }
      ]
    },
    {
      "cell_type": "code",
      "source": [
        "pd.unique(df['SkinCancer'])"
      ],
      "metadata": {
        "colab": {
          "base_uri": "https://localhost:8080/"
        },
        "id": "8tLRfApcWY4Z",
        "outputId": "1c16a0e4-16eb-4de9-a10d-7bb19c4f9cf4"
      },
      "execution_count": 64,
      "outputs": [
        {
          "output_type": "execute_result",
          "data": {
            "text/plain": [
              "array(['Yes', 'No'], dtype=object)"
            ]
          },
          "metadata": {},
          "execution_count": 64
        }
      ]
    },
    {
      "cell_type": "markdown",
      "source": [
        "# Бинаризация нормальных признаков"
      ],
      "metadata": {
        "id": "FfMO3b5FVpjg"
      }
    },
    {
      "cell_type": "markdown",
      "source": [
        "Так как библиотека ***scikit-learn*** практически не умеет работать с категориальными признаками, необходимо закодировать их с помощью числовых признаков."
      ],
      "metadata": {
        "id": "uZS-u5WEV7Mp"
      }
    },
    {
      "cell_type": "markdown",
      "source": [
        "Кодировка категориальных **бинарных** признаков:"
      ],
      "metadata": {
        "id": "hARgA4nXWnab"
      }
    },
    {
      "cell_type": "code",
      "source": [
        "def bi(column):\n",
        "  df[column] = pd.factorize(df[column])[0]"
      ],
      "metadata": {
        "id": "X5Ea5PAwYG5-"
      },
      "execution_count": 65,
      "outputs": []
    },
    {
      "cell_type": "code",
      "source": [
        "bi('HeartDisease')"
      ],
      "metadata": {
        "id": "4HEkBvFeVvZi"
      },
      "execution_count": 66,
      "outputs": []
    },
    {
      "cell_type": "code",
      "source": [
        "bi('Smoking')"
      ],
      "metadata": {
        "id": "yCS1QGTyXLIb"
      },
      "execution_count": 67,
      "outputs": []
    },
    {
      "cell_type": "code",
      "source": [
        "bi('AlcoholDrinking')"
      ],
      "metadata": {
        "id": "j72W2zU1X7m2"
      },
      "execution_count": 68,
      "outputs": []
    },
    {
      "cell_type": "code",
      "source": [
        "bi('Stroke')"
      ],
      "metadata": {
        "id": "MCuS1j4_Y1Ln"
      },
      "execution_count": 69,
      "outputs": []
    },
    {
      "cell_type": "code",
      "source": [
        "bi('DiffWalking')"
      ],
      "metadata": {
        "id": "vXslJhCdY6xg"
      },
      "execution_count": 70,
      "outputs": []
    },
    {
      "cell_type": "code",
      "source": [
        "bi('Sex')"
      ],
      "metadata": {
        "id": "ECeFVt6aY-f4"
      },
      "execution_count": 71,
      "outputs": []
    },
    {
      "cell_type": "code",
      "source": [
        "bi('PhysicalActivity')"
      ],
      "metadata": {
        "id": "k8ZGxh6pZMQk"
      },
      "execution_count": 72,
      "outputs": []
    },
    {
      "cell_type": "code",
      "source": [
        "bi('Asthma')"
      ],
      "metadata": {
        "id": "rMBLY9_oZS3X"
      },
      "execution_count": 73,
      "outputs": []
    },
    {
      "cell_type": "code",
      "source": [
        "bi('KidneyDisease')"
      ],
      "metadata": {
        "id": "M7Tx0VydZWo9"
      },
      "execution_count": 74,
      "outputs": []
    },
    {
      "cell_type": "code",
      "source": [
        "bi('SkinCancer')"
      ],
      "metadata": {
        "id": "Vw38ZepNZq8s"
      },
      "execution_count": 75,
      "outputs": []
    },
    {
      "cell_type": "markdown",
      "source": [
        "Кодировка категориальных **небинарных** признаков:"
      ],
      "metadata": {
        "id": "CwmQIaUjZ1vC"
      }
    },
    {
      "cell_type": "markdown",
      "source": [
        "Для ***\\'Diabetic'***:"
      ],
      "metadata": {
        "id": "AxKkFynGgzWg"
      }
    },
    {
      "cell_type": "code",
      "source": [
        "ind = 0\n",
        "for x in df['Diabetic']:\n",
        "  if x == 'Yes':\n",
        "    df.at[ind, 'Diabetic'] = 'YesDiabetic'\n",
        "  elif x == 'No':\n",
        "    df.at[ind, 'Diabetic'] = 'NoDiabetic'\n",
        "  elif x == 'No, borderline diabetes':\n",
        "    df.at[ind, 'Diabetic'] = 'Borderline'\n",
        "  elif x == 'Yes (during pregnancy)':\n",
        "    df.at[ind, 'Diabetic'] = 'Pregnancy'\n",
        "  ind += 1"
      ],
      "metadata": {
        "id": "C0_ezGMzfGNn"
      },
      "execution_count": 76,
      "outputs": []
    },
    {
      "cell_type": "code",
      "source": [
        "dummies = pd.get_dummies(df['Diabetic'])\n",
        "df = pd.concat((df, dummies), axis=1)\n",
        "df = df.drop(['Diabetic'], axis=1)"
      ],
      "metadata": {
        "id": "-g9f_fpEZ41i"
      },
      "execution_count": 77,
      "outputs": []
    },
    {
      "cell_type": "markdown",
      "source": [
        "Для ***\\'Race'***:"
      ],
      "metadata": {
        "id": "has3HiHBg6Xw"
      }
    },
    {
      "cell_type": "code",
      "source": [
        "ind = 0\n",
        "for x in df['Race']:\n",
        "  if x == 'Other':\n",
        "    df.at[ind, 'Race'] = 'OtherRace'\n",
        "  ind += 1"
      ],
      "metadata": {
        "id": "mMkAiPF-g-u9"
      },
      "execution_count": 78,
      "outputs": []
    },
    {
      "cell_type": "code",
      "source": [
        "dummies = pd.get_dummies(df['Race'])\n",
        "df = pd.concat((df, dummies), axis=1)\n",
        "df = df.drop(['Race'], axis=1)"
      ],
      "metadata": {
        "id": "ylniyh5ehguN"
      },
      "execution_count": 79,
      "outputs": []
    },
    {
      "cell_type": "markdown",
      "source": [
        "Для ***\\'GenHealth'***:"
      ],
      "metadata": {
        "id": "sYf-djF_h_9o"
      }
    },
    {
      "cell_type": "code",
      "source": [
        "dummies = pd.get_dummies(df['GenHealth'])\n",
        "df = pd.concat((df, dummies), axis=1)\n",
        "df = df.drop(['GenHealth'], axis=1)"
      ],
      "metadata": {
        "id": "MCyceLzLiPeZ"
      },
      "execution_count": 80,
      "outputs": []
    },
    {
      "cell_type": "code",
      "source": [
        "df"
      ],
      "metadata": {
        "colab": {
          "base_uri": "https://localhost:8080/",
          "height": 505
        },
        "id": "SUDG8ViLhuej",
        "outputId": "487a761b-1e8b-4eab-f0c3-e899c55df029"
      },
      "execution_count": 81,
      "outputs": [
        {
          "output_type": "execute_result",
          "data": {
            "text/plain": [
              "        HeartDisease    BMI  Smoking  AlcoholDrinking  Stroke  PhysicalHealth  \\\n",
              "0                  0  16.60        0                0       0             3.0   \n",
              "1                  0  20.34        1                0       1             0.0   \n",
              "2                  0  26.58        0                0       0            20.0   \n",
              "3                  0  24.21        1                0       0             0.0   \n",
              "4                  0  23.71        1                0       0            28.0   \n",
              "...              ...    ...      ...              ...     ...             ...   \n",
              "319790             1  27.41        0                0       0             7.0   \n",
              "319791             0  29.84        0                0       0             0.0   \n",
              "319792             0  24.24        1                0       0             0.0   \n",
              "319793             0  32.81        1                0       0             0.0   \n",
              "319794             0  46.56        1                0       0             0.0   \n",
              "\n",
              "        MentalHealth  DiffWalking  Sex  AgeCategory  ...  Asian  Black  \\\n",
              "0               30.0            0    0           59  ...      0      0   \n",
              "1                0.0            0    0           87  ...      0      0   \n",
              "2               30.0            0    1           66  ...      0      0   \n",
              "3                0.0            0    0           77  ...      0      0   \n",
              "4                0.0            1    0           41  ...      0      0   \n",
              "...              ...          ...  ...          ...  ...    ...    ...   \n",
              "319790           0.0            1    1           60  ...      0      0   \n",
              "319791           0.0            0    1           38  ...      0      0   \n",
              "319792           0.0            0    0           48  ...      0      0   \n",
              "319793           0.0            0    0           25  ...      0      0   \n",
              "319794           0.0            0    0           89  ...      0      0   \n",
              "\n",
              "        Hispanic  OtherRace  White  Excellent  Fair  Good  Poor  Very good  \n",
              "0              0          0      1          0     0     0     0          1  \n",
              "1              0          0      1          0     0     0     0          1  \n",
              "2              0          0      1          0     1     0     0          0  \n",
              "3              0          0      1          0     0     1     0          0  \n",
              "4              0          0      1          0     0     0     0          1  \n",
              "...          ...        ...    ...        ...   ...   ...   ...        ...  \n",
              "319790         1          0      0          0     1     0     0          0  \n",
              "319791         1          0      0          0     0     0     0          1  \n",
              "319792         1          0      0          0     0     1     0          0  \n",
              "319793         1          0      0          0     0     1     0          0  \n",
              "319794         1          0      0          0     0     1     0          0  \n",
              "\n",
              "[319795 rows x 30 columns]"
            ],
            "text/html": [
              "\n",
              "  <div id=\"df-a60e267e-2622-46bb-a314-83fc2481701d\">\n",
              "    <div class=\"colab-df-container\">\n",
              "      <div>\n",
              "<style scoped>\n",
              "    .dataframe tbody tr th:only-of-type {\n",
              "        vertical-align: middle;\n",
              "    }\n",
              "\n",
              "    .dataframe tbody tr th {\n",
              "        vertical-align: top;\n",
              "    }\n",
              "\n",
              "    .dataframe thead th {\n",
              "        text-align: right;\n",
              "    }\n",
              "</style>\n",
              "<table border=\"1\" class=\"dataframe\">\n",
              "  <thead>\n",
              "    <tr style=\"text-align: right;\">\n",
              "      <th></th>\n",
              "      <th>HeartDisease</th>\n",
              "      <th>BMI</th>\n",
              "      <th>Smoking</th>\n",
              "      <th>AlcoholDrinking</th>\n",
              "      <th>Stroke</th>\n",
              "      <th>PhysicalHealth</th>\n",
              "      <th>MentalHealth</th>\n",
              "      <th>DiffWalking</th>\n",
              "      <th>Sex</th>\n",
              "      <th>AgeCategory</th>\n",
              "      <th>...</th>\n",
              "      <th>Asian</th>\n",
              "      <th>Black</th>\n",
              "      <th>Hispanic</th>\n",
              "      <th>OtherRace</th>\n",
              "      <th>White</th>\n",
              "      <th>Excellent</th>\n",
              "      <th>Fair</th>\n",
              "      <th>Good</th>\n",
              "      <th>Poor</th>\n",
              "      <th>Very good</th>\n",
              "    </tr>\n",
              "  </thead>\n",
              "  <tbody>\n",
              "    <tr>\n",
              "      <th>0</th>\n",
              "      <td>0</td>\n",
              "      <td>16.60</td>\n",
              "      <td>0</td>\n",
              "      <td>0</td>\n",
              "      <td>0</td>\n",
              "      <td>3.0</td>\n",
              "      <td>30.0</td>\n",
              "      <td>0</td>\n",
              "      <td>0</td>\n",
              "      <td>59</td>\n",
              "      <td>...</td>\n",
              "      <td>0</td>\n",
              "      <td>0</td>\n",
              "      <td>0</td>\n",
              "      <td>0</td>\n",
              "      <td>1</td>\n",
              "      <td>0</td>\n",
              "      <td>0</td>\n",
              "      <td>0</td>\n",
              "      <td>0</td>\n",
              "      <td>1</td>\n",
              "    </tr>\n",
              "    <tr>\n",
              "      <th>1</th>\n",
              "      <td>0</td>\n",
              "      <td>20.34</td>\n",
              "      <td>1</td>\n",
              "      <td>0</td>\n",
              "      <td>1</td>\n",
              "      <td>0.0</td>\n",
              "      <td>0.0</td>\n",
              "      <td>0</td>\n",
              "      <td>0</td>\n",
              "      <td>87</td>\n",
              "      <td>...</td>\n",
              "      <td>0</td>\n",
              "      <td>0</td>\n",
              "      <td>0</td>\n",
              "      <td>0</td>\n",
              "      <td>1</td>\n",
              "      <td>0</td>\n",
              "      <td>0</td>\n",
              "      <td>0</td>\n",
              "      <td>0</td>\n",
              "      <td>1</td>\n",
              "    </tr>\n",
              "    <tr>\n",
              "      <th>2</th>\n",
              "      <td>0</td>\n",
              "      <td>26.58</td>\n",
              "      <td>0</td>\n",
              "      <td>0</td>\n",
              "      <td>0</td>\n",
              "      <td>20.0</td>\n",
              "      <td>30.0</td>\n",
              "      <td>0</td>\n",
              "      <td>1</td>\n",
              "      <td>66</td>\n",
              "      <td>...</td>\n",
              "      <td>0</td>\n",
              "      <td>0</td>\n",
              "      <td>0</td>\n",
              "      <td>0</td>\n",
              "      <td>1</td>\n",
              "      <td>0</td>\n",
              "      <td>1</td>\n",
              "      <td>0</td>\n",
              "      <td>0</td>\n",
              "      <td>0</td>\n",
              "    </tr>\n",
              "    <tr>\n",
              "      <th>3</th>\n",
              "      <td>0</td>\n",
              "      <td>24.21</td>\n",
              "      <td>1</td>\n",
              "      <td>0</td>\n",
              "      <td>0</td>\n",
              "      <td>0.0</td>\n",
              "      <td>0.0</td>\n",
              "      <td>0</td>\n",
              "      <td>0</td>\n",
              "      <td>77</td>\n",
              "      <td>...</td>\n",
              "      <td>0</td>\n",
              "      <td>0</td>\n",
              "      <td>0</td>\n",
              "      <td>0</td>\n",
              "      <td>1</td>\n",
              "      <td>0</td>\n",
              "      <td>0</td>\n",
              "      <td>1</td>\n",
              "      <td>0</td>\n",
              "      <td>0</td>\n",
              "    </tr>\n",
              "    <tr>\n",
              "      <th>4</th>\n",
              "      <td>0</td>\n",
              "      <td>23.71</td>\n",
              "      <td>1</td>\n",
              "      <td>0</td>\n",
              "      <td>0</td>\n",
              "      <td>28.0</td>\n",
              "      <td>0.0</td>\n",
              "      <td>1</td>\n",
              "      <td>0</td>\n",
              "      <td>41</td>\n",
              "      <td>...</td>\n",
              "      <td>0</td>\n",
              "      <td>0</td>\n",
              "      <td>0</td>\n",
              "      <td>0</td>\n",
              "      <td>1</td>\n",
              "      <td>0</td>\n",
              "      <td>0</td>\n",
              "      <td>0</td>\n",
              "      <td>0</td>\n",
              "      <td>1</td>\n",
              "    </tr>\n",
              "    <tr>\n",
              "      <th>...</th>\n",
              "      <td>...</td>\n",
              "      <td>...</td>\n",
              "      <td>...</td>\n",
              "      <td>...</td>\n",
              "      <td>...</td>\n",
              "      <td>...</td>\n",
              "      <td>...</td>\n",
              "      <td>...</td>\n",
              "      <td>...</td>\n",
              "      <td>...</td>\n",
              "      <td>...</td>\n",
              "      <td>...</td>\n",
              "      <td>...</td>\n",
              "      <td>...</td>\n",
              "      <td>...</td>\n",
              "      <td>...</td>\n",
              "      <td>...</td>\n",
              "      <td>...</td>\n",
              "      <td>...</td>\n",
              "      <td>...</td>\n",
              "      <td>...</td>\n",
              "    </tr>\n",
              "    <tr>\n",
              "      <th>319790</th>\n",
              "      <td>1</td>\n",
              "      <td>27.41</td>\n",
              "      <td>0</td>\n",
              "      <td>0</td>\n",
              "      <td>0</td>\n",
              "      <td>7.0</td>\n",
              "      <td>0.0</td>\n",
              "      <td>1</td>\n",
              "      <td>1</td>\n",
              "      <td>60</td>\n",
              "      <td>...</td>\n",
              "      <td>0</td>\n",
              "      <td>0</td>\n",
              "      <td>1</td>\n",
              "      <td>0</td>\n",
              "      <td>0</td>\n",
              "      <td>0</td>\n",
              "      <td>1</td>\n",
              "      <td>0</td>\n",
              "      <td>0</td>\n",
              "      <td>0</td>\n",
              "    </tr>\n",
              "    <tr>\n",
              "      <th>319791</th>\n",
              "      <td>0</td>\n",
              "      <td>29.84</td>\n",
              "      <td>0</td>\n",
              "      <td>0</td>\n",
              "      <td>0</td>\n",
              "      <td>0.0</td>\n",
              "      <td>0.0</td>\n",
              "      <td>0</td>\n",
              "      <td>1</td>\n",
              "      <td>38</td>\n",
              "      <td>...</td>\n",
              "      <td>0</td>\n",
              "      <td>0</td>\n",
              "      <td>1</td>\n",
              "      <td>0</td>\n",
              "      <td>0</td>\n",
              "      <td>0</td>\n",
              "      <td>0</td>\n",
              "      <td>0</td>\n",
              "      <td>0</td>\n",
              "      <td>1</td>\n",
              "    </tr>\n",
              "    <tr>\n",
              "      <th>319792</th>\n",
              "      <td>0</td>\n",
              "      <td>24.24</td>\n",
              "      <td>1</td>\n",
              "      <td>0</td>\n",
              "      <td>0</td>\n",
              "      <td>0.0</td>\n",
              "      <td>0.0</td>\n",
              "      <td>0</td>\n",
              "      <td>0</td>\n",
              "      <td>48</td>\n",
              "      <td>...</td>\n",
              "      <td>0</td>\n",
              "      <td>0</td>\n",
              "      <td>1</td>\n",
              "      <td>0</td>\n",
              "      <td>0</td>\n",
              "      <td>0</td>\n",
              "      <td>0</td>\n",
              "      <td>1</td>\n",
              "      <td>0</td>\n",
              "      <td>0</td>\n",
              "    </tr>\n",
              "    <tr>\n",
              "      <th>319793</th>\n",
              "      <td>0</td>\n",
              "      <td>32.81</td>\n",
              "      <td>1</td>\n",
              "      <td>0</td>\n",
              "      <td>0</td>\n",
              "      <td>0.0</td>\n",
              "      <td>0.0</td>\n",
              "      <td>0</td>\n",
              "      <td>0</td>\n",
              "      <td>25</td>\n",
              "      <td>...</td>\n",
              "      <td>0</td>\n",
              "      <td>0</td>\n",
              "      <td>1</td>\n",
              "      <td>0</td>\n",
              "      <td>0</td>\n",
              "      <td>0</td>\n",
              "      <td>0</td>\n",
              "      <td>1</td>\n",
              "      <td>0</td>\n",
              "      <td>0</td>\n",
              "    </tr>\n",
              "    <tr>\n",
              "      <th>319794</th>\n",
              "      <td>0</td>\n",
              "      <td>46.56</td>\n",
              "      <td>1</td>\n",
              "      <td>0</td>\n",
              "      <td>0</td>\n",
              "      <td>0.0</td>\n",
              "      <td>0.0</td>\n",
              "      <td>0</td>\n",
              "      <td>0</td>\n",
              "      <td>89</td>\n",
              "      <td>...</td>\n",
              "      <td>0</td>\n",
              "      <td>0</td>\n",
              "      <td>1</td>\n",
              "      <td>0</td>\n",
              "      <td>0</td>\n",
              "      <td>0</td>\n",
              "      <td>0</td>\n",
              "      <td>1</td>\n",
              "      <td>0</td>\n",
              "      <td>0</td>\n",
              "    </tr>\n",
              "  </tbody>\n",
              "</table>\n",
              "<p>319795 rows × 30 columns</p>\n",
              "</div>\n",
              "      <button class=\"colab-df-convert\" onclick=\"convertToInteractive('df-a60e267e-2622-46bb-a314-83fc2481701d')\"\n",
              "              title=\"Convert this dataframe to an interactive table.\"\n",
              "              style=\"display:none;\">\n",
              "        \n",
              "  <svg xmlns=\"http://www.w3.org/2000/svg\" height=\"24px\"viewBox=\"0 0 24 24\"\n",
              "       width=\"24px\">\n",
              "    <path d=\"M0 0h24v24H0V0z\" fill=\"none\"/>\n",
              "    <path d=\"M18.56 5.44l.94 2.06.94-2.06 2.06-.94-2.06-.94-.94-2.06-.94 2.06-2.06.94zm-11 1L8.5 8.5l.94-2.06 2.06-.94-2.06-.94L8.5 2.5l-.94 2.06-2.06.94zm10 10l.94 2.06.94-2.06 2.06-.94-2.06-.94-.94-2.06-.94 2.06-2.06.94z\"/><path d=\"M17.41 7.96l-1.37-1.37c-.4-.4-.92-.59-1.43-.59-.52 0-1.04.2-1.43.59L10.3 9.45l-7.72 7.72c-.78.78-.78 2.05 0 2.83L4 21.41c.39.39.9.59 1.41.59.51 0 1.02-.2 1.41-.59l7.78-7.78 2.81-2.81c.8-.78.8-2.07 0-2.86zM5.41 20L4 18.59l7.72-7.72 1.47 1.35L5.41 20z\"/>\n",
              "  </svg>\n",
              "      </button>\n",
              "      \n",
              "  <style>\n",
              "    .colab-df-container {\n",
              "      display:flex;\n",
              "      flex-wrap:wrap;\n",
              "      gap: 12px;\n",
              "    }\n",
              "\n",
              "    .colab-df-convert {\n",
              "      background-color: #E8F0FE;\n",
              "      border: none;\n",
              "      border-radius: 50%;\n",
              "      cursor: pointer;\n",
              "      display: none;\n",
              "      fill: #1967D2;\n",
              "      height: 32px;\n",
              "      padding: 0 0 0 0;\n",
              "      width: 32px;\n",
              "    }\n",
              "\n",
              "    .colab-df-convert:hover {\n",
              "      background-color: #E2EBFA;\n",
              "      box-shadow: 0px 1px 2px rgba(60, 64, 67, 0.3), 0px 1px 3px 1px rgba(60, 64, 67, 0.15);\n",
              "      fill: #174EA6;\n",
              "    }\n",
              "\n",
              "    [theme=dark] .colab-df-convert {\n",
              "      background-color: #3B4455;\n",
              "      fill: #D2E3FC;\n",
              "    }\n",
              "\n",
              "    [theme=dark] .colab-df-convert:hover {\n",
              "      background-color: #434B5C;\n",
              "      box-shadow: 0px 1px 3px 1px rgba(0, 0, 0, 0.15);\n",
              "      filter: drop-shadow(0px 1px 2px rgba(0, 0, 0, 0.3));\n",
              "      fill: #FFFFFF;\n",
              "    }\n",
              "  </style>\n",
              "\n",
              "      <script>\n",
              "        const buttonEl =\n",
              "          document.querySelector('#df-a60e267e-2622-46bb-a314-83fc2481701d button.colab-df-convert');\n",
              "        buttonEl.style.display =\n",
              "          google.colab.kernel.accessAllowed ? 'block' : 'none';\n",
              "\n",
              "        async function convertToInteractive(key) {\n",
              "          const element = document.querySelector('#df-a60e267e-2622-46bb-a314-83fc2481701d');\n",
              "          const dataTable =\n",
              "            await google.colab.kernel.invokeFunction('convertToInteractive',\n",
              "                                                     [key], {});\n",
              "          if (!dataTable) return;\n",
              "\n",
              "          const docLinkHtml = 'Like what you see? Visit the ' +\n",
              "            '<a target=\"_blank\" href=https://colab.research.google.com/notebooks/data_table.ipynb>data table notebook</a>'\n",
              "            + ' to learn more about interactive tables.';\n",
              "          element.innerHTML = '';\n",
              "          dataTable['output_type'] = 'display_data';\n",
              "          await google.colab.output.renderOutput(dataTable, element);\n",
              "          const docLink = document.createElement('div');\n",
              "          docLink.innerHTML = docLinkHtml;\n",
              "          element.appendChild(docLink);\n",
              "        }\n",
              "      </script>\n",
              "    </div>\n",
              "  </div>\n",
              "  "
            ]
          },
          "metadata": {},
          "execution_count": 81
        }
      ]
    },
    {
      "cell_type": "markdown",
      "source": [
        "# Нормализация колличественных признаков"
      ],
      "metadata": {
        "id": "aedHPCyXjyHA"
      }
    },
    {
      "cell_type": "markdown",
      "source": [
        "Так как многие алгоритмы машинного обучения чувствительны к масштабированию данных, колличественные признаки полезно нормализовать.\n",
        "\n",
        "Стандартизация всех признаков:"
      ],
      "metadata": {
        "id": "uxTiOuFVkZOi"
      }
    },
    {
      "cell_type": "code",
      "source": [
        "ds = (df - df.mean(axis = 0))/df.std(axis = 0)"
      ],
      "metadata": {
        "id": "3Cb2_rBVk74p"
      },
      "execution_count": 82,
      "outputs": []
    },
    {
      "cell_type": "markdown",
      "source": [
        "# Отбор признаков, разбиение данных на обучающую и тестовую выборки"
      ],
      "metadata": {
        "id": "sTCo0KJinQD1"
      }
    },
    {
      "cell_type": "code",
      "source": [
        "X = ds.drop('HeartDisease', axis = 1)\n",
        "y = df['HeartDisease']"
      ],
      "metadata": {
        "id": "DqdK3RmLnS41"
      },
      "execution_count": 83,
      "outputs": []
    },
    {
      "cell_type": "code",
      "source": [
        "df.shape"
      ],
      "metadata": {
        "colab": {
          "base_uri": "https://localhost:8080/"
        },
        "id": "GK54Vrd2pLei",
        "outputId": "dd44d078-ddd5-4fa6-d819-9425809a03b8"
      },
      "execution_count": 84,
      "outputs": [
        {
          "output_type": "execute_result",
          "data": {
            "text/plain": [
              "(319795, 30)"
            ]
          },
          "metadata": {},
          "execution_count": 84
        }
      ]
    },
    {
      "cell_type": "markdown",
      "source": [
        "Разобьем данные на обучающую и тестовую выборки в пропорции 3:1 (75% - обучающая выборка, 25% - тестовая):"
      ],
      "metadata": {
        "id": "0affJIuppaoi"
      }
    },
    {
      "cell_type": "code",
      "source": [
        "from sklearn.model_selection import train_test_split\n",
        "X_train, X_test, y_train, y_test = train_test_split(X, y, test_size = 0.25, random_state = 42)"
      ],
      "metadata": {
        "id": "bhWjsvx5outA"
      },
      "execution_count": 85,
      "outputs": []
    },
    {
      "cell_type": "markdown",
      "source": [
        "# Метод k ближайших соседей"
      ],
      "metadata": {
        "id": "80LXomxQvEdP"
      }
    },
    {
      "cell_type": "code",
      "source": [
        "from sklearn.neighbors import KNeighborsClassifier\n",
        "from sklearn.metrics import accuracy_score, mean_squared_error"
      ],
      "metadata": {
        "id": "2e_Rb_VLvEHg"
      },
      "execution_count": 86,
      "outputs": []
    },
    {
      "cell_type": "markdown",
      "source": [
        "### Для 10 соседей:"
      ],
      "metadata": {
        "id": "VsnckOtmviZg"
      }
    },
    {
      "cell_type": "code",
      "source": [
        "from sklearn.neighbors import KNeighborsClassifier\n",
        "\n",
        "knn = KNeighborsClassifier(n_neighbors = 10)\n",
        "knn.fit(X_train, y_train)\n",
        "y_train_predict = knn.predict(X_train)\n",
        "y_test_predict = knn.predict(X_test)"
      ],
      "metadata": {
        "id": "Hc5dW_bEvk-C"
      },
      "execution_count": 87,
      "outputs": []
    },
    {
      "cell_type": "markdown",
      "source": [
        "Точность на обучающей выборке:"
      ],
      "metadata": {
        "id": "MaKGjfvAwUZ9"
      }
    },
    {
      "cell_type": "code",
      "source": [
        "accuracy_score(y_train, y_train_predict)"
      ],
      "metadata": {
        "id": "d7ZRqkwswXwv",
        "colab": {
          "base_uri": "https://localhost:8080/"
        },
        "outputId": "e9d9aa49-19d6-4401-eb13-907a9d61f5b5"
      },
      "execution_count": 88,
      "outputs": [
        {
          "output_type": "execute_result",
          "data": {
            "text/plain": [
              "0.9196150863470727"
            ]
          },
          "metadata": {},
          "execution_count": 88
        }
      ]
    },
    {
      "cell_type": "markdown",
      "source": [
        "Точность на тренировочной выборке:"
      ],
      "metadata": {
        "id": "hMwCF20m3rKX"
      }
    },
    {
      "cell_type": "code",
      "source": [
        "accuracy_score(y_test, y_test_predict)"
      ],
      "metadata": {
        "id": "kjR3jUSa3v4x",
        "colab": {
          "base_uri": "https://localhost:8080/"
        },
        "outputId": "0024de12-a72d-49f8-cfbf-335e200a1cdf"
      },
      "execution_count": 89,
      "outputs": [
        {
          "output_type": "execute_result",
          "data": {
            "text/plain": [
              "0.912256563559269"
            ]
          },
          "metadata": {},
          "execution_count": 89
        }
      ]
    },
    {
      "cell_type": "markdown",
      "source": [
        "Среднеквадратичная ошибка на обучающей выборке:"
      ],
      "metadata": {
        "id": "zo60Nf1O4IbA"
      }
    },
    {
      "cell_type": "code",
      "source": [
        "mean_squared_error(y_train, y_train_predict)"
      ],
      "metadata": {
        "id": "ovCTSJy_4Lsk",
        "colab": {
          "base_uri": "https://localhost:8080/"
        },
        "outputId": "7320a8e7-0673-406b-eaac-3461fa04a6fd"
      },
      "execution_count": 90,
      "outputs": [
        {
          "output_type": "execute_result",
          "data": {
            "text/plain": [
              "0.0803849136529273"
            ]
          },
          "metadata": {},
          "execution_count": 90
        }
      ]
    },
    {
      "cell_type": "markdown",
      "source": [
        "Среднеквадратичная ошибка на тренировочной выборке:"
      ],
      "metadata": {
        "id": "YzSe4Ttj4UES"
      }
    },
    {
      "cell_type": "code",
      "source": [
        "mean_squared_error(y_test, y_test_predict)"
      ],
      "metadata": {
        "id": "7DoUfzgf4cDF",
        "colab": {
          "base_uri": "https://localhost:8080/"
        },
        "outputId": "78498949-a07d-4e61-a7f7-907f42902a3e"
      },
      "execution_count": 91,
      "outputs": [
        {
          "output_type": "execute_result",
          "data": {
            "text/plain": [
              "0.08774343644073096"
            ]
          },
          "metadata": {},
          "execution_count": 91
        }
      ]
    },
    {
      "cell_type": "markdown",
      "source": [
        "### Для 5 соседей:"
      ],
      "metadata": {
        "id": "RE8yFCgq4tOG"
      }
    },
    {
      "cell_type": "code",
      "source": [
        "knn = KNeighborsClassifier(n_neighbors = 5)\n",
        "knn.fit(X_train, y_train)\n",
        "y_train_predict = knn.predict(X_train)\n",
        "y_test_predict = knn.predict(X_test)"
      ],
      "metadata": {
        "id": "sxtLqUl34t50"
      },
      "execution_count": 92,
      "outputs": []
    },
    {
      "cell_type": "markdown",
      "source": [
        "Точность на обучающей выборке:"
      ],
      "metadata": {
        "id": "dPrhSHWt_Wa_"
      }
    },
    {
      "cell_type": "code",
      "source": [
        "accuracy_score(y_train, y_train_predict)"
      ],
      "metadata": {
        "id": "MU-KtqQJ_VqD",
        "colab": {
          "base_uri": "https://localhost:8080/"
        },
        "outputId": "0b1e2ac5-4aaf-44ba-9631-9a6c3b514880"
      },
      "execution_count": 93,
      "outputs": [
        {
          "output_type": "execute_result",
          "data": {
            "text/plain": [
              "0.9257106643429533"
            ]
          },
          "metadata": {},
          "execution_count": 93
        }
      ]
    },
    {
      "cell_type": "markdown",
      "source": [
        "Точность на тренировочной выборке:"
      ],
      "metadata": {
        "id": "7u7qTNmZ_iRj"
      }
    },
    {
      "cell_type": "code",
      "source": [
        "accuracy_score(y_test, y_test_predict)"
      ],
      "metadata": {
        "id": "OeYzpExI_ls-",
        "colab": {
          "base_uri": "https://localhost:8080/"
        },
        "outputId": "a8935ed4-6a25-4306-877a-2072f5c1ee52"
      },
      "execution_count": 94,
      "outputs": [
        {
          "output_type": "execute_result",
          "data": {
            "text/plain": [
              "0.905427209846277"
            ]
          },
          "metadata": {},
          "execution_count": 94
        }
      ]
    },
    {
      "cell_type": "markdown",
      "source": [
        "Среднеквадратичная ошибка на обучающей выборке:"
      ],
      "metadata": {
        "id": "2fq0TIEh_5kT"
      }
    },
    {
      "cell_type": "code",
      "source": [
        "mean_squared_error(y_train, y_train_predict)"
      ],
      "metadata": {
        "id": "kknme6ye_5Xr",
        "colab": {
          "base_uri": "https://localhost:8080/"
        },
        "outputId": "4727069f-138d-4d5e-84b1-53ecd777b137"
      },
      "execution_count": 95,
      "outputs": [
        {
          "output_type": "execute_result",
          "data": {
            "text/plain": [
              "0.07428933565704661"
            ]
          },
          "metadata": {},
          "execution_count": 95
        }
      ]
    },
    {
      "cell_type": "markdown",
      "source": [
        "Среднеквадратичная ошибка на тренировочной выборке:"
      ],
      "metadata": {
        "id": "v4peeNf4_8rd"
      }
    },
    {
      "cell_type": "code",
      "source": [
        "mean_squared_error(y_test, y_test_predict)"
      ],
      "metadata": {
        "id": "AY4v_K-5_8f9",
        "colab": {
          "base_uri": "https://localhost:8080/"
        },
        "outputId": "1162f802-c96e-4bc1-b37c-c8227dc2fdb0"
      },
      "execution_count": 96,
      "outputs": [
        {
          "output_type": "execute_result",
          "data": {
            "text/plain": [
              "0.094572790153723"
            ]
          },
          "metadata": {},
          "execution_count": 96
        }
      ]
    },
    {
      "cell_type": "markdown",
      "source": [
        "##Общие выводы\n",
        "В данной работе реализовано обучение модели посредством метода k ближайших соседей, предсказывающей наличие сердечных заболеваний у человека. \n",
        "\n",
        "Лучше всего себя показал knn(n=10), так как имеет наименьшую ошибку на тесте. У knn(n=5) ошибка больше на 7,2%. \n",
        "\n",
        "Такое небольшое значение ошибки можно обосновать тем, что признаки из датасета хорошо подобраны автором: с помощью них довольно неплохо получается предсказать наличие сердечных заболеваний.\n",
        "\n"
      ],
      "metadata": {
        "id": "F0Tu5BvbF5Qr"
      }
    },
    {
      "cell_type": "markdown",
      "source": [
        "#Нейронная сеть\n"
      ],
      "metadata": {
        "id": "y_708AWKteqM"
      }
    },
    {
      "cell_type": "markdown",
      "source": [
        "ВЫШЕ ДОБАВИЛ ВЫВОДЫ К ПЕРВОЙ ЛАБЕ, ЧТОБЫ ПОЛУЧИТЬ ОСТАВШИЙСЯ БАЛЛ)"
      ],
      "metadata": {
        "id": "SivlVp-wK9vj"
      }
    },
    {
      "cell_type": "markdown",
      "source": [
        "##Обучаем классификатор"
      ],
      "metadata": {
        "id": "T0qxikRAt4zX"
      }
    },
    {
      "cell_type": "code",
      "source": [
        "from sklearn.neural_network import MLPClassifier"
      ],
      "metadata": {
        "id": "AreItbkqtpJN"
      },
      "execution_count": 97,
      "outputs": []
    },
    {
      "cell_type": "code",
      "source": [
        "mlp_model = MLPClassifier(hidden_layer_sizes = (50,),\n",
        "                          solver = 'lbfgs', \n",
        "                          activation = 'logistic',\n",
        "                          random_state = 42)"
      ],
      "metadata": {
        "id": "eFVwXMmxuNFK"
      },
      "execution_count": 98,
      "outputs": []
    },
    {
      "cell_type": "code",
      "source": [
        "mlp_model.fit(X_train, y_train)"
      ],
      "metadata": {
        "id": "Y8WrgAZVueyN",
        "colab": {
          "base_uri": "https://localhost:8080/"
        },
        "outputId": "c6b9a215-9f24-4191-dfdd-091f1fdc5aac"
      },
      "execution_count": 99,
      "outputs": [
        {
          "output_type": "execute_result",
          "data": {
            "text/plain": [
              "MLPClassifier(activation='logistic', hidden_layer_sizes=(50,), random_state=42,\n",
              "              solver='lbfgs')"
            ]
          },
          "metadata": {},
          "execution_count": 99
        }
      ]
    },
    {
      "cell_type": "markdown",
      "source": [
        "##Проверка качества классификатора"
      ],
      "metadata": {
        "id": "s1sxgX_b9kSQ"
      }
    },
    {
      "cell_type": "code",
      "source": [
        "y_train_pred = mlp_model.predict(X_train)\n",
        "y_test_pred = mlp_model.predict(X_test)"
      ],
      "metadata": {
        "id": "VKEFFpQc9q0D"
      },
      "execution_count": 100,
      "outputs": []
    },
    {
      "cell_type": "markdown",
      "source": [
        "#####Ошибки на обучающей и тестовой выборках"
      ],
      "metadata": {
        "id": "mEunCY22-CW1"
      }
    },
    {
      "cell_type": "code",
      "source": [
        "print(np.mean(y_train != y_train_pred), np.mean(y_test != y_test_pred))"
      ],
      "metadata": {
        "id": "ZZv1umFq-Go0",
        "colab": {
          "base_uri": "https://localhost:8080/"
        },
        "outputId": "cfca9557-4185-4aa7-d99d-c03da4731053"
      },
      "execution_count": 101,
      "outputs": [
        {
          "output_type": "stream",
          "name": "stdout",
          "text": [
            "0.08244039925618939 0.08575466860123329\n"
          ]
        }
      ]
    },
    {
      "cell_type": "markdown",
      "source": [
        "##Подбор гиперпараметров"
      ],
      "metadata": {
        "id": "s5R8hio5-Z7Q"
      }
    },
    {
      "cell_type": "markdown",
      "source": [
        "Подбирается оптимальное значение параметра регуляризации *alpha*"
      ],
      "metadata": {
        "id": "fywWMrvP-r_w"
      }
    },
    {
      "cell_type": "code",
      "source": [
        "\n",
        "alpha_arr = np.logspace(-3, 2, 21)\n",
        "test_err = []\n",
        "train_err = []\n",
        "train_acc = []\n",
        "test_acc = []\n",
        "\n",
        "for alpha in alpha_arr:\n",
        "    mlp_model = MLPClassifier(alpha = alpha, hidden_layer_sizes = (100,), \n",
        "                              solver = 'adam', activation = 'relu', max_iter=1000, random_state = 42)\n",
        "    mlp_model.fit(X_train, y_train)\n",
        "\n",
        "    y_train_pred = mlp_model.predict(X_train)\n",
        "    y_test_pred = mlp_model.predict(X_test)\n",
        "    \n",
        "    train_err.append(np.mean(y_train != y_train_pred))\n",
        "    test_err.append(np.mean(y_test != y_test_pred))\n",
        "    train_acc.append(accuracy_score(y_train, y_train_pred))\n",
        "    test_acc.append(accuracy_score(y_test, y_test_pred))"
      ],
      "metadata": {
        "id": "J-CzjHF1-2PW"
      },
      "execution_count": 102,
      "outputs": []
    },
    {
      "cell_type": "code",
      "source": [
        "plt.semilogx(alpha_arr, train_err, 'b-o', label = 'train')\n",
        "plt.semilogx(alpha_arr, test_err, 'r-o', label = 'test')\n",
        "plt.xlim([np.min(alpha_arr), np.max(alpha_arr)])\n",
        "plt.title('Error vs. alpha')\n",
        "plt.xlabel('alpha')\n",
        "plt.ylabel('error')\n",
        "plt.legend()"
      ],
      "metadata": {
        "id": "sICjwTrYRkAG",
        "colab": {
          "base_uri": "https://localhost:8080/",
          "height": 557
        },
        "outputId": "be6a249f-d059-4f1c-9c95-20ccb784fb34"
      },
      "execution_count": 103,
      "outputs": [
        {
          "output_type": "execute_result",
          "data": {
            "text/plain": [
              "<matplotlib.legend.Legend at 0x7ff836556ca0>"
            ]
          },
          "metadata": {},
          "execution_count": 103
        },
        {
          "output_type": "display_data",
          "data": {
            "text/plain": [
              "<Figure size 1080x595.44 with 1 Axes>"
            ],
            "image/png": "[encoded data removed]"
          },
          "metadata": {}
        }
      ]
    },
    {
      "cell_type": "markdown",
      "source": [
        "Рассмотрим как у нас менялась метрика в зависимости от гиперпараметра:"
      ],
      "metadata": {
        "id": "Q5DMIim9vf6z"
      }
    },
    {
      "cell_type": "code",
      "source": [
        "plt.semilogx(alpha_arr, train_acc, 'r-o', label = 'train')\n",
        "plt.semilogx(alpha_arr, test_acc, 'b-o', label = 'test')\n",
        "plt.xlim([np.min(alpha_arr), np.max(alpha_arr)])\n",
        "plt.title('Accuracy vs. alpha')\n",
        "plt.xlabel('alpha')\n",
        "plt.ylabel('Accuracy')\n",
        "plt.legend()"
      ],
      "metadata": {
        "id": "rGJZ2pMoSAY4",
        "colab": {
          "base_uri": "https://localhost:8080/",
          "height": 557
        },
        "outputId": "d376c586-dc75-4f90-f1de-e9ad4cf5d445"
      },
      "execution_count": 104,
      "outputs": [
        {
          "output_type": "execute_result",
          "data": {
            "text/plain": [
              "<matplotlib.legend.Legend at 0x7ff835115130>"
            ]
          },
          "metadata": {},
          "execution_count": 104
        },
        {
          "output_type": "display_data",
          "data": {
            "text/plain": [
              "<Figure size 1080x595.44 with 1 Axes>"
            ],
            "image/png": "[encoded data removed]"
          },
          "metadata": {}
        }
      ]
    },
    {
      "cell_type": "markdown",
      "source": [
        "Минимальное значение ошибки:"
      ],
      "metadata": {
        "id": "xZ_k8xv1vler"
      }
    },
    {
      "cell_type": "code",
      "source": [
        "min_train_err = np.min(train_err)\n",
        "min_test_err = np.min(test_err)\n",
        "print(min_train_err, min_test_err)"
      ],
      "metadata": {
        "colab": {
          "base_uri": "https://localhost:8080/"
        },
        "id": "1qm8UZ4CvmF-",
        "outputId": "c140fc1b-00dd-4066-bc5a-70b49b5bf89d"
      },
      "execution_count": 105,
      "outputs": [
        {
          "output_type": "stream",
          "name": "stdout",
          "text": [
            "0.08201512637275585 0.08499168219740084\n"
          ]
        }
      ]
    },
    {
      "cell_type": "markdown",
      "source": [
        "Оптимальное значение alpha:"
      ],
      "metadata": {
        "id": "8AY7U0_CvvNA"
      }
    },
    {
      "cell_type": "code",
      "source": [
        "alpha_opt = alpha_arr[test_err == min_test_err]\n",
        "print(alpha_opt)"
      ],
      "metadata": {
        "colab": {
          "base_uri": "https://localhost:8080/"
        },
        "id": "MJjETBM0vupZ",
        "outputId": "e0cf54df-64b4-4b52-dd9b-79fde2054b9f"
      },
      "execution_count": 106,
      "outputs": [
        {
          "output_type": "stream",
          "name": "stdout",
          "text": [
            "[0.31622777]\n"
          ]
        }
      ]
    },
    {
      "cell_type": "code",
      "source": [
        "alpha_opt = alpha_opt[0]"
      ],
      "metadata": {
        "id": "fgCo_X6wv8o4"
      },
      "execution_count": 107,
      "outputs": []
    },
    {
      "cell_type": "markdown",
      "source": [
        "###Классификатор при найденном оптимальном значении alpha:"
      ],
      "metadata": {
        "id": "Dy3_ulyhwHL-"
      }
    },
    {
      "cell_type": "markdown",
      "source": [
        "Повторим обучение:"
      ],
      "metadata": {
        "id": "rdUB2vk3whH4"
      }
    },
    {
      "cell_type": "code",
      "source": [
        "mlp_model = MLPClassifier(alpha = alpha_opt, hidden_layer_sizes = (100,),\n",
        "                          solver = 'lbfgs', activation = 'logistic', random_state = 42)\n",
        "mlp_model.fit(X_train, y_train)\n",
        "\n",
        "y_train_pred = mlp_model.predict(X_train)\n",
        "y_test_pred = mlp_model.predict(X_test)\n",
        "print(np.mean(y_train != y_train_pred))\n",
        "print(np.mean(y_test != y_test_pred))"
      ],
      "metadata": {
        "colab": {
          "base_uri": "https://localhost:8080/"
        },
        "id": "EtcL6CypwF5k",
        "outputId": "4a31223e-8674-4bce-8575-f6f483587636"
      },
      "execution_count": 108,
      "outputs": [
        {
          "output_type": "stream",
          "name": "stderr",
          "text": [
            "/usr/local/lib/python3.8/dist-packages/sklearn/neural_network/_multilayer_perceptron.py:549: ConvergenceWarning: lbfgs failed to converge (status=1):\n",
            "STOP: TOTAL NO. of ITERATIONS REACHED LIMIT.\n",
            "\n",
            "Increase the number of iterations (max_iter) or scale the data as shown in:\n",
            "    https://scikit-learn.org/stable/modules/preprocessing.html\n",
            "  self.n_iter_ = _check_optimize_result(\"lbfgs\", opt_res, self.max_iter)\n"
          ]
        },
        {
          "output_type": "stream",
          "name": "stdout",
          "text": [
            "0.0821902387365226\n",
            "0.08633003539756595\n"
          ]
        }
      ]
    },
    {
      "cell_type": "markdown",
      "source": [
        "###Матрица рассогласования:"
      ],
      "metadata": {
        "id": "e5nR-QhcyA66"
      }
    },
    {
      "cell_type": "code",
      "source": [
        "from sklearn.metrics import confusion_matrix\n",
        "print(confusion_matrix(y_test_pred, y_test))"
      ],
      "metadata": {
        "colab": {
          "base_uri": "https://localhost:8080/"
        },
        "id": "FJCSoJinyCkD",
        "outputId": "65d8515b-299d-4703-b520-03b5754afdbc"
      },
      "execution_count": 109,
      "outputs": [
        {
          "output_type": "stream",
          "name": "stdout",
          "text": [
            "[[72403  6301]\n",
            " [  601   644]]\n"
          ]
        }
      ]
    },
    {
      "cell_type": "code",
      "source": [
        "M = confusion_matrix(y_test_pred, y_test)\n",
        "M = np.sqrt(M)\n",
        "plt.imshow(M, interpolation = 'nearest')\n",
        "plt.set_cmap('binary')\n",
        "plt.xticks(range(2))\n",
        "plt.yticks(range(2))\n",
        "plt.xlabel(\"true label\")\n",
        "plt.ylabel(\"predicted label\")\n",
        "plt.colorbar()\n",
        "pass"
      ],
      "metadata": {
        "colab": {
          "base_uri": "https://localhost:8080/",
          "height": 517
        },
        "id": "p7iMGMBo3JaV",
        "outputId": "4cf0441d-b1ed-4537-e3c2-eae750389aac"
      },
      "execution_count": 116,
      "outputs": [
        {
          "output_type": "display_data",
          "data": {
            "text/plain": [
              "<Figure size 1080x595.44 with 2 Axes>"
            ],
            "image/png": "[encoded data removed]"
          },
          "metadata": {}
        }
      ]
    },
    {
      "cell_type": "markdown",
      "source": [
        "###Другие метрики качества:"
      ],
      "metadata": {
        "id": "uyA0-N-yzOAE"
      }
    },
    {
      "cell_type": "code",
      "source": [
        "from sklearn.metrics import classification_report\n",
        "print(classification_report(y_test, y_test_pred))"
      ],
      "metadata": {
        "colab": {
          "base_uri": "https://localhost:8080/"
        },
        "id": "Ko0lfzEvzNfC",
        "outputId": "6d752c91-e8d2-437f-b147-2f5dd3af08d3"
      },
      "execution_count": 117,
      "outputs": [
        {
          "output_type": "stream",
          "name": "stdout",
          "text": [
            "              precision    recall  f1-score   support\n",
            "\n",
            "           0       0.92      0.99      0.95     73004\n",
            "           1       0.52      0.09      0.16      6945\n",
            "\n",
            "    accuracy                           0.91     79949\n",
            "   macro avg       0.72      0.54      0.56     79949\n",
            "weighted avg       0.88      0.91      0.89     79949\n",
            "\n"
          ]
        }
      ]
    },
    {
      "cell_type": "markdown",
      "source": [
        "##Выводы:\n",
        "Наблюдается совсем небольшое переобучение. Необходимо заметить, что с ростом коэффициента регуляризации растет ошибка, снижается точность. "
      ],
      "metadata": {
        "id": "LRmIUBAs1OFH"
      }
    }
  ]
}
